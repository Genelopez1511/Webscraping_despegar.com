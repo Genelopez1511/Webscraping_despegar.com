{
 "cells": [
  {
   "cell_type": "code",
   "execution_count": 12,
   "metadata": {},
   "outputs": [],
   "source": [
    "from bs4 import BeautifulSoup\n",
    "from selenium import webdriver # módulo que contiene implementaciones de controladores de navegadores web\n",
    "from webdriver_manager.chrome import ChromeDriverManager # controlador de Chrome  \n",
    "from selenium.webdriver.support import expected_conditions as EC # método para escribir códigos que esperan hasta que ciertas condiciones sean cumplidas\n",
    "from selenium.webdriver.support.ui import WebDriverWait # método para escribir códigos que utilizan esperas implícitas o explícitas\n",
    "from selenium.webdriver.common.by import By # método para localizar elementos por sus atributos HTML\n",
    "from selenium.webdriver import ActionChains # módulo para implementar interacciones con el navegador from selenium import webdriver\n",
    "from selenium.webdriver.chrome.options import Options\n",
    "from decimal import Decimal\n",
    "from pandas import DataFrame \n",
    "import pandas as pd\n",
    "import numpy as np\n"
   ]
  },
  {
   "cell_type": "code",
   "execution_count": 13,
   "metadata": {},
   "outputs": [],
   "source": [
    "chrome_options = Options()\n",
    "chrome_options.add_argument('--headless')\n",
    "chrome_options.add_argument('--no-sandbox')\n",
    "chrome_options.add_argument('--disable-dev-shm-usage')\n",
    "#d = webdriver.Chrome('your-chrome-driver-path',chrome_options=chrome_options)"
   ]
  },
  {
   "cell_type": "code",
   "execution_count": 14,
   "metadata": {},
   "outputs": [
    {
     "name": "stderr",
     "output_type": "stream",
     "text": [
      "[WDM] - Current google-chrome version is 97.0.4692\n",
      "[WDM] - Get LATEST driver version for 97.0.4692\n"
     ]
    },
    {
     "name": "stdout",
     "output_type": "stream",
     "text": [
      " \n"
     ]
    },
    {
     "name": "stderr",
     "output_type": "stream",
     "text": [
      "[WDM] - Driver [/home/genesis/.wdm/drivers/chromedriver/linux64/97.0.4692.71/chromedriver] found in cache\n"
     ]
    }
   ],
   "source": [
    "# Inicializa la página web en el navegador Chrome\n",
    "driver = webdriver.Chrome(ChromeDriverManager().install(),chrome_options=chrome_options)\n",
    "url = 'https://www.despegar.com.co/'\n",
    "driver.get(url) # aca le pido al webdriver que me traiga la pagina que le solicite en url"
   ]
  },
  {
   "cell_type": "code",
   "execution_count": 15,
   "metadata": {},
   "outputs": [
    {
     "name": "stdout",
     "output_type": "stream",
     "text": [
      "https://www.despegar.com.co/\n"
     ]
    }
   ],
   "source": [
    "elemento_oferta = '.shifu-3-header .header-corners-container .header-product-item .shifu-3-button-circle.OFFERS'\n",
    "delay = 10\n",
    "try:\n",
    "    element_present = EC.presence_of_element_located((By.CSS_SELECTOR, elemento_oferta))\n",
    "    WebDriverWait(driver, delay).until(element_present)\n",
    "except TimeoutError:\n",
    "    print('Timed out waiting for page to load')\n",
    "print(driver.current_url)\n"
   ]
  },
  {
   "cell_type": "code",
   "execution_count": 16,
   "metadata": {},
   "outputs": [
    {
     "name": "stdout",
     "output_type": "stream",
     "text": [
      "https://www.despegar.com.co/ofertas-de-viajes\n"
     ]
    }
   ],
   "source": [
    "element1 = driver.find_element_by_css_selector(elemento_oferta)\n",
    "ActionChains(driver).click(element1).perform()\n",
    "print(driver.current_url)"
   ]
  },
  {
   "cell_type": "code",
   "execution_count": 17,
   "metadata": {},
   "outputs": [],
   "source": [
    "soup = BeautifulSoup(driver.page_source, 'html.parser')\n",
    "driver.quit()\n"
   ]
  },
  {
   "cell_type": "code",
   "execution_count": 18,
   "metadata": {},
   "outputs": [],
   "source": [
    "etiqueta_promociones = soup.select('slider-item')  # selecciona todos los elementos que tienen la clase slider-item"
   ]
  },
  {
   "cell_type": "code",
   "execution_count": 19,
   "metadata": {},
   "outputs": [
    {
     "name": "stdout",
     "output_type": "stream",
     "text": [
      "Paquetes a Medellín //media.staticontent.com/media/pictures/d9206bce-e2c1-433a-b03b-35f1ecf695f8/300x200 Paquete 502.663  $868.351 \n",
      "Paquetes a Punta Cana //media.staticontent.com/media/pictures/c98f73fd-35d1-4d81-9f3a-4e806fa3cc13/300x200 Paquete 2.291.632  $2.891.724 \n",
      "Paquetes a Miami //media.staticontent.com/media/pictures/d6f408b2-6824-4d55-9b3b-4d0a2fa459fa/300x200 Paquete 2.726.593  $2.886.464 \n",
      "Paquetes a Leticia //media.staticontent.com/media/pictures/4584c24e-e9a4-4cb6-be60-7a608f4e949a/300x200 Paquete 567.632 None\n",
      "Paquetes a Rio de Janeiro //media.staticontent.com/media/pictures/748a1d4a-8dc3-4e82-a691-ac41c79576fe/300x200 Paquete 2.749.732  $3.056.239 \n",
      "Vuelo a Cancún //media.staticontent.com/media/pictures/0a660d84-dca3-4854-9993-2dc03172f258/300x200 Vuelo 871.267 None\n",
      "Vuelo a Santiago de Chile //media.staticontent.com/media/pictures/8be15b81-1ea8-46e4-916d-d06f5bd4e7e7/300x200 Vuelo 927.203 None\n",
      "Vuelo a Dubái //media.staticontent.com/media/pictures/4572763b-64ee-4b05-bca7-d824e8be4c11/300x200 Vuelo 2.730.320 None\n",
      "Vuelo a La Habana //media.staticontent.com/media/pictures/c42fabfa-328c-4d91-a43c-f768f2789de0/300x200 Vuelo 1.636.860 None\n",
      "Vuelo a Roma //media.staticontent.com/media/pictures/9638ed47-0bd4-4f79-968e-5fa4aa64d775/300x200 Vuelo 2.243.106 None\n",
      "Vuelo a Asunción //media.staticontent.com/media/pictures/e2beeab7-bccc-4cb5-9a07-905860647ba3/300x200 Vuelo 1.081.580 None\n",
      "Vuelos a Medellín //media.staticontent.com/media/pictures/77cef6c6-6538-45a8-8518-e6605d85fd36/300x200 Vuelo 126.101 None\n",
      "Vuelos a Cartagena de Indias //media.staticontent.com/media/pictures/d8303972-7f71-49b2-b2a0-6457966ef56e/300x200 Vuelo 146.580 None\n",
      "Vuelos a Santa Marta //media.staticontent.com/media/pictures/66273bd5-baa3-416f-9a0d-27cdd99445f9/300x200 Vuelo 147.241 None\n",
      "Paquetes a San Andrés //media.staticontent.com/media/pictures/f96dcbb2-af00-4b79-8c25-915b0111dcac/300x200 Paquete 1.476.928  $2.253.768 \n",
      "Vuelos a Cali //media.staticontent.com/media/pictures/546c3a88-dac6-4fab-b473-338ae9654ee0/300x200 Vuelo 133.318 None\n",
      "UGO Hotel //media.staticontent.com/media/pictures/a11b893a-1d88-41c9-916d-69706770c7c7/300x200 Alojamiento 276.432 None\n",
      "Entradas a Parques Temáticos Disney //media.staticontent.com/media/pictures/a1a798f7-f4ab-4583-b4f2-cc17a5b1fef8/300x200 Actividad 520.896 None\n",
      "Hotel Calypso Beach //media.staticontent.com/media/pictures/310ff2bd-d37d-498e-937e-bca37a310cb7/300x200 Alojamiento 614.757 None\n",
      "Vuelos a Ciudad de México //media.staticontent.com/media/pictures/3c9b21c1-c321-4ee6-88eb-de6c9538675f/300x200 Vuelo 3.876.950 None\n",
      "Vuelos a Miami //media.staticontent.com/media/pictures/738c0839-6390-4b83-a15c-fef9171cdd96/300x200 Vuelo 781.653 None\n",
      "Paquetes a Santa Marta //media.staticontent.com/media/pictures/a0f71baa-7342-44fc-ac4e-29c84adb22cc/300x200 Paquete 528.334  $1.042.266 \n",
      "Hotel Poblado Plaza //media.staticontent.com/media/pictures/410ac798-9be4-4a26-92b3-59c97baa0d2d/300x200 Alojamiento 350.400  $438.000 \n",
      "Vuelos a Cartagena de Indias //media.staticontent.com/media/pictures/5c804847-8b9e-4f22-b2c4-c0a05f2f7e47/300x200 Vuelo 108.459 None\n",
      "Hotel Capilla Del Mar //media.staticontent.com/media/pictures/e10e9950-267c-40bc-b3d9-ea6582b700cf/300x200 Alojamiento 392.412  $509.626 \n",
      "Carros Económicos en Miami //media.staticontent.com/media/pictures/a3dffcfe-734f-445f-9663-29d0f22fbc1b/300x200 Auto 145.358 None\n",
      "Autos Económicos en Cartagena de Indias //media.staticontent.com/media/pictures/31081cbb-f0cd-4cdc-9718-b209c2350d03/300x200 Auto 110.933 None\n"
     ]
    }
   ],
   "source": [
    "def chequear_nulo(etiqueta):\n",
    "    if etiqueta is not None:\n",
    "        return str(etiqueta.text)\n",
    "  \n",
    "\n",
    "def chequear_imagen(etiqueta):\n",
    "    if etiqueta is not None:\n",
    "        return etiqueta['src']\n",
    "\n",
    "for etiqueta in etiqueta_promociones:\n",
    "    titulo = etiqueta.select_one('.offer-card-title.small-title ')\n",
    "    if titulo == None:\n",
    "        continue\n",
    "    imagen = etiqueta.select_one('.offer-card-image .offer-card-image-main')\n",
    "    categoria = etiqueta.select_one('.offer-card-product')\n",
    "    precio_oferta = etiqueta.select_one('.offer-card-pricebox-price-amount ')\n",
    "    precio_normal = etiqueta.select_one('.offer-card-pricebox-price .offer-card-pricebox-price-old')\n",
    "    print(chequear_nulo(titulo),chequear_imagen(imagen),chequear_nulo(categoria),chequear_nulo(precio_oferta),chequear_nulo(precio_normal), end='\\n')\n",
    "\n",
    "   "
   ]
  },
  {
   "cell_type": "code",
   "execution_count": 20,
   "metadata": {},
   "outputs": [
    {
     "name": "stdout",
     "output_type": "stream",
     "text": [
      "[{'categoria': 'Paquete', 'titulo': 'Paquetes a Medellín', 'precio_oferta': '502663', 'precio_normal': ' 868351 ', 'imagen': '//media.staticontent.com/media/pictures/d9206bce-e2c1-433a-b03b-35f1ecf695f8/300x200'}, {'categoria': 'Paquete', 'titulo': 'Paquetes a Punta Cana', 'precio_oferta': '2291632', 'precio_normal': ' 2891724 ', 'imagen': '//media.staticontent.com/media/pictures/c98f73fd-35d1-4d81-9f3a-4e806fa3cc13/300x200'}, {'categoria': 'Paquete', 'titulo': 'Paquetes a Miami', 'precio_oferta': '2726593', 'precio_normal': ' 2886464 ', 'imagen': '//media.staticontent.com/media/pictures/d6f408b2-6824-4d55-9b3b-4d0a2fa459fa/300x200'}, {'categoria': 'Paquete', 'titulo': 'Paquetes a Leticia', 'precio_oferta': '567632', 'precio_normal': 0, 'imagen': '//media.staticontent.com/media/pictures/4584c24e-e9a4-4cb6-be60-7a608f4e949a/300x200'}, {'categoria': 'Paquete', 'titulo': 'Paquetes a Rio de Janeiro', 'precio_oferta': '2749732', 'precio_normal': ' 3056239 ', 'imagen': '//media.staticontent.com/media/pictures/748a1d4a-8dc3-4e82-a691-ac41c79576fe/300x200'}, {'categoria': 'Vuelo', 'titulo': 'Vuelo a Cancún', 'precio_oferta': '871267', 'precio_normal': 0, 'imagen': '//media.staticontent.com/media/pictures/0a660d84-dca3-4854-9993-2dc03172f258/300x200'}, {'categoria': 'Vuelo', 'titulo': 'Vuelo a Santiago de Chile', 'precio_oferta': '927203', 'precio_normal': 0, 'imagen': '//media.staticontent.com/media/pictures/8be15b81-1ea8-46e4-916d-d06f5bd4e7e7/300x200'}, {'categoria': 'Vuelo', 'titulo': 'Vuelo a Dubái', 'precio_oferta': '2730320', 'precio_normal': 0, 'imagen': '//media.staticontent.com/media/pictures/4572763b-64ee-4b05-bca7-d824e8be4c11/300x200'}, {'categoria': 'Vuelo', 'titulo': 'Vuelo a La Habana', 'precio_oferta': '1636860', 'precio_normal': 0, 'imagen': '//media.staticontent.com/media/pictures/c42fabfa-328c-4d91-a43c-f768f2789de0/300x200'}, {'categoria': 'Vuelo', 'titulo': 'Vuelo a Roma', 'precio_oferta': '2243106', 'precio_normal': 0, 'imagen': '//media.staticontent.com/media/pictures/9638ed47-0bd4-4f79-968e-5fa4aa64d775/300x200'}, {'categoria': 'Vuelo', 'titulo': 'Vuelo a Asunción', 'precio_oferta': '1081580', 'precio_normal': 0, 'imagen': '//media.staticontent.com/media/pictures/e2beeab7-bccc-4cb5-9a07-905860647ba3/300x200'}, {'categoria': 'Vuelo', 'titulo': 'Vuelos a Medellín', 'precio_oferta': '126101', 'precio_normal': 0, 'imagen': '//media.staticontent.com/media/pictures/77cef6c6-6538-45a8-8518-e6605d85fd36/300x200'}, {'categoria': 'Vuelo', 'titulo': 'Vuelos a Cartagena de Indias', 'precio_oferta': '146580', 'precio_normal': 0, 'imagen': '//media.staticontent.com/media/pictures/d8303972-7f71-49b2-b2a0-6457966ef56e/300x200'}, {'categoria': 'Vuelo', 'titulo': 'Vuelos a Santa Marta', 'precio_oferta': '147241', 'precio_normal': 0, 'imagen': '//media.staticontent.com/media/pictures/66273bd5-baa3-416f-9a0d-27cdd99445f9/300x200'}, {'categoria': 'Paquete', 'titulo': 'Paquetes a San Andrés', 'precio_oferta': '1476928', 'precio_normal': ' 2253768 ', 'imagen': '//media.staticontent.com/media/pictures/f96dcbb2-af00-4b79-8c25-915b0111dcac/300x200'}, {'categoria': 'Vuelo', 'titulo': 'Vuelos a Cali', 'precio_oferta': '133318', 'precio_normal': 0, 'imagen': '//media.staticontent.com/media/pictures/546c3a88-dac6-4fab-b473-338ae9654ee0/300x200'}, {'categoria': 'Alojamiento', 'titulo': 'UGO Hotel', 'precio_oferta': '276432', 'precio_normal': 0, 'imagen': '//media.staticontent.com/media/pictures/a11b893a-1d88-41c9-916d-69706770c7c7/300x200'}, {'categoria': 'Actividad', 'titulo': 'Entradas a Parques Temáticos Disney', 'precio_oferta': '520896', 'precio_normal': 0, 'imagen': '//media.staticontent.com/media/pictures/a1a798f7-f4ab-4583-b4f2-cc17a5b1fef8/300x200'}, {'categoria': 'Alojamiento', 'titulo': 'Hotel Calypso Beach', 'precio_oferta': '614757', 'precio_normal': 0, 'imagen': '//media.staticontent.com/media/pictures/310ff2bd-d37d-498e-937e-bca37a310cb7/300x200'}, {'categoria': 'Vuelo', 'titulo': 'Vuelos a Ciudad de México', 'precio_oferta': '3876950', 'precio_normal': 0, 'imagen': '//media.staticontent.com/media/pictures/3c9b21c1-c321-4ee6-88eb-de6c9538675f/300x200'}, {'categoria': 'Vuelo', 'titulo': 'Vuelos a Miami', 'precio_oferta': '781653', 'precio_normal': 0, 'imagen': '//media.staticontent.com/media/pictures/738c0839-6390-4b83-a15c-fef9171cdd96/300x200'}, {'categoria': 'Paquete', 'titulo': 'Paquetes a Santa Marta', 'precio_oferta': '528334', 'precio_normal': ' 1042266 ', 'imagen': '//media.staticontent.com/media/pictures/a0f71baa-7342-44fc-ac4e-29c84adb22cc/300x200'}, {'categoria': 'Alojamiento', 'titulo': 'Hotel Poblado Plaza', 'precio_oferta': '350400', 'precio_normal': ' 438000 ', 'imagen': '//media.staticontent.com/media/pictures/410ac798-9be4-4a26-92b3-59c97baa0d2d/300x200'}, {'categoria': 'Vuelo', 'titulo': 'Vuelos a Cartagena de Indias', 'precio_oferta': '108459', 'precio_normal': 0, 'imagen': '//media.staticontent.com/media/pictures/5c804847-8b9e-4f22-b2c4-c0a05f2f7e47/300x200'}, {'categoria': 'Alojamiento', 'titulo': 'Hotel Capilla Del Mar', 'precio_oferta': '392412', 'precio_normal': ' 509626 ', 'imagen': '//media.staticontent.com/media/pictures/e10e9950-267c-40bc-b3d9-ea6582b700cf/300x200'}, {'categoria': 'Auto', 'titulo': 'Carros Económicos en Miami', 'precio_oferta': '145358', 'precio_normal': 0, 'imagen': '//media.staticontent.com/media/pictures/a3dffcfe-734f-445f-9663-29d0f22fbc1b/300x200'}, {'categoria': 'Auto', 'titulo': 'Autos Económicos en Cartagena de Indias', 'precio_oferta': '110933', 'precio_normal': 0, 'imagen': '//media.staticontent.com/media/pictures/31081cbb-f0cd-4cdc-9718-b209c2350d03/300x200'}, {'categoria': None, 'titulo': None, 'precio_oferta': 0, 'precio_normal': 0, 'imagen': None}, {'categoria': None, 'titulo': None, 'precio_oferta': 0, 'precio_normal': 0, 'imagen': None}, {'categoria': None, 'titulo': None, 'precio_oferta': 0, 'precio_normal': 0, 'imagen': None}, {'categoria': None, 'titulo': None, 'precio_oferta': 0, 'precio_normal': 0, 'imagen': None}, {'categoria': None, 'titulo': None, 'precio_oferta': 0, 'precio_normal': 0, 'imagen': None}, {'categoria': None, 'titulo': None, 'precio_oferta': 0, 'precio_normal': 0, 'imagen': None}, {'categoria': None, 'titulo': None, 'precio_oferta': 0, 'precio_normal': 0, 'imagen': None}, {'categoria': None, 'titulo': None, 'precio_oferta': 0, 'precio_normal': 0, 'imagen': None}, {'categoria': None, 'titulo': None, 'precio_oferta': 0, 'precio_normal': 0, 'imagen': None}, {'categoria': None, 'titulo': None, 'precio_oferta': 0, 'precio_normal': 0, 'imagen': None}, {'categoria': None, 'titulo': None, 'precio_oferta': 0, 'precio_normal': 0, 'imagen': None}, {'categoria': None, 'titulo': None, 'precio_oferta': 0, 'precio_normal': 0, 'imagen': None}, {'categoria': None, 'titulo': None, 'precio_oferta': 0, 'precio_normal': 0, 'imagen': None}, {'categoria': None, 'titulo': None, 'precio_oferta': 0, 'precio_normal': 0, 'imagen': None}, {'categoria': None, 'titulo': None, 'precio_oferta': 0, 'precio_normal': 0, 'imagen': None}, {'categoria': None, 'titulo': None, 'precio_oferta': 0, 'precio_normal': 0, 'imagen': None}, {'categoria': None, 'titulo': None, 'precio_oferta': 0, 'precio_normal': 0, 'imagen': None}, {'categoria': None, 'titulo': None, 'precio_oferta': 0, 'precio_normal': 0, 'imagen': None}, {'categoria': None, 'titulo': None, 'precio_oferta': 0, 'precio_normal': 0, 'imagen': None}, {'categoria': None, 'titulo': None, 'precio_oferta': 0, 'precio_normal': 0, 'imagen': None}, {'categoria': None, 'titulo': None, 'precio_oferta': 0, 'precio_normal': 0, 'imagen': None}, {'categoria': None, 'titulo': None, 'precio_oferta': 0, 'precio_normal': 0, 'imagen': None}]\n"
     ]
    }
   ],
   "source": [
    "\n",
    "\n",
    "# crear una lista de diccionarios\n",
    "promociones_lista = []\n",
    "promociones = {}\n",
    "import sys\n",
    "for etiqueta in etiqueta_promociones:\n",
    "    try:\n",
    "        promociones['categoria'] = chequear_nulo(etiqueta.select_one('.offer-card-product'))\n",
    "        promociones['titulo'] = chequear_nulo(etiqueta.select_one('.offer-card-title.small-title'))\n",
    "        promociones['precio_oferta'] = (chequear_nulo(etiqueta.select_one('.offer-card-pricebox-price-amount')))\n",
    "        if promociones['precio_oferta'] != None:\n",
    "            promociones['precio_oferta'] = promociones['precio_oferta'].replace('$','').replace('.','')\n",
    "        else:\n",
    "            promociones['precio_oferta'] = 0\n",
    "           \n",
    "        promociones['precio_normal'] = chequear_nulo(etiqueta.select_one('.offer-card-pricebox-price .offer-card-pricebox-price-old'))\n",
    "        if promociones['precio_normal'] != None:\n",
    "            promociones['precio_normal'] = promociones['precio_normal'].replace('$','').replace('.','')\n",
    "        else:\n",
    "            promociones['precio_normal'] = 0\n",
    "        promociones['imagen'] = chequear_imagen(etiqueta.select_one('.offer-card-image .offer-card-image-main'))\n",
    "    except:\n",
    "        # print the exception\n",
    "        print(sys.exc_info()[0])\n",
    "        continue \n",
    "    promociones_lista.append(promociones.copy())\n",
    "print(promociones_lista)\n"
   ]
  },
  {
   "cell_type": "code",
   "execution_count": 21,
   "metadata": {},
   "outputs": [
    {
     "name": "stdout",
     "output_type": "stream",
     "text": [
      "[{'categoria': 'Paquete', 'titulo': 'Paquetes a Medellín', 'precio_oferta': Decimal('502663'), 'precio_normal': Decimal('868351'), 'imagen': '//media.staticontent.com/media/pictures/d9206bce-e2c1-433a-b03b-35f1ecf695f8/300x200'}, {'categoria': 'Paquete', 'titulo': 'Paquetes a Punta Cana', 'precio_oferta': Decimal('2291632'), 'precio_normal': Decimal('2891724'), 'imagen': '//media.staticontent.com/media/pictures/c98f73fd-35d1-4d81-9f3a-4e806fa3cc13/300x200'}, {'categoria': 'Paquete', 'titulo': 'Paquetes a Miami', 'precio_oferta': Decimal('2726593'), 'precio_normal': Decimal('2886464'), 'imagen': '//media.staticontent.com/media/pictures/d6f408b2-6824-4d55-9b3b-4d0a2fa459fa/300x200'}, {'categoria': 'Paquete', 'titulo': 'Paquetes a Leticia', 'precio_oferta': Decimal('567632'), 'precio_normal': Decimal('0'), 'imagen': '//media.staticontent.com/media/pictures/4584c24e-e9a4-4cb6-be60-7a608f4e949a/300x200'}, {'categoria': 'Paquete', 'titulo': 'Paquetes a Rio de Janeiro', 'precio_oferta': Decimal('2749732'), 'precio_normal': Decimal('3056239'), 'imagen': '//media.staticontent.com/media/pictures/748a1d4a-8dc3-4e82-a691-ac41c79576fe/300x200'}, {'categoria': 'Vuelo', 'titulo': 'Vuelo a Cancún', 'precio_oferta': Decimal('871267'), 'precio_normal': Decimal('0'), 'imagen': '//media.staticontent.com/media/pictures/0a660d84-dca3-4854-9993-2dc03172f258/300x200'}, {'categoria': 'Vuelo', 'titulo': 'Vuelo a Santiago de Chile', 'precio_oferta': Decimal('927203'), 'precio_normal': Decimal('0'), 'imagen': '//media.staticontent.com/media/pictures/8be15b81-1ea8-46e4-916d-d06f5bd4e7e7/300x200'}, {'categoria': 'Vuelo', 'titulo': 'Vuelo a Dubái', 'precio_oferta': Decimal('2730320'), 'precio_normal': Decimal('0'), 'imagen': '//media.staticontent.com/media/pictures/4572763b-64ee-4b05-bca7-d824e8be4c11/300x200'}, {'categoria': 'Vuelo', 'titulo': 'Vuelo a La Habana', 'precio_oferta': Decimal('1636860'), 'precio_normal': Decimal('0'), 'imagen': '//media.staticontent.com/media/pictures/c42fabfa-328c-4d91-a43c-f768f2789de0/300x200'}, {'categoria': 'Vuelo', 'titulo': 'Vuelo a Roma', 'precio_oferta': Decimal('2243106'), 'precio_normal': Decimal('0'), 'imagen': '//media.staticontent.com/media/pictures/9638ed47-0bd4-4f79-968e-5fa4aa64d775/300x200'}, {'categoria': 'Vuelo', 'titulo': 'Vuelo a Asunción', 'precio_oferta': Decimal('1081580'), 'precio_normal': Decimal('0'), 'imagen': '//media.staticontent.com/media/pictures/e2beeab7-bccc-4cb5-9a07-905860647ba3/300x200'}, {'categoria': 'Vuelo', 'titulo': 'Vuelos a Medellín', 'precio_oferta': Decimal('126101'), 'precio_normal': Decimal('0'), 'imagen': '//media.staticontent.com/media/pictures/77cef6c6-6538-45a8-8518-e6605d85fd36/300x200'}, {'categoria': 'Vuelo', 'titulo': 'Vuelos a Cartagena de Indias', 'precio_oferta': Decimal('146580'), 'precio_normal': Decimal('0'), 'imagen': '//media.staticontent.com/media/pictures/d8303972-7f71-49b2-b2a0-6457966ef56e/300x200'}, {'categoria': 'Vuelo', 'titulo': 'Vuelos a Santa Marta', 'precio_oferta': Decimal('147241'), 'precio_normal': Decimal('0'), 'imagen': '//media.staticontent.com/media/pictures/66273bd5-baa3-416f-9a0d-27cdd99445f9/300x200'}, {'categoria': 'Paquete', 'titulo': 'Paquetes a San Andrés', 'precio_oferta': Decimal('1476928'), 'precio_normal': Decimal('2253768'), 'imagen': '//media.staticontent.com/media/pictures/f96dcbb2-af00-4b79-8c25-915b0111dcac/300x200'}, {'categoria': 'Vuelo', 'titulo': 'Vuelos a Cali', 'precio_oferta': Decimal('133318'), 'precio_normal': Decimal('0'), 'imagen': '//media.staticontent.com/media/pictures/546c3a88-dac6-4fab-b473-338ae9654ee0/300x200'}, {'categoria': 'Alojamiento', 'titulo': 'UGO Hotel', 'precio_oferta': Decimal('276432'), 'precio_normal': Decimal('0'), 'imagen': '//media.staticontent.com/media/pictures/a11b893a-1d88-41c9-916d-69706770c7c7/300x200'}, {'categoria': 'Actividad', 'titulo': 'Entradas a Parques Temáticos Disney', 'precio_oferta': Decimal('520896'), 'precio_normal': Decimal('0'), 'imagen': '//media.staticontent.com/media/pictures/a1a798f7-f4ab-4583-b4f2-cc17a5b1fef8/300x200'}, {'categoria': 'Alojamiento', 'titulo': 'Hotel Calypso Beach', 'precio_oferta': Decimal('614757'), 'precio_normal': Decimal('0'), 'imagen': '//media.staticontent.com/media/pictures/310ff2bd-d37d-498e-937e-bca37a310cb7/300x200'}, {'categoria': 'Vuelo', 'titulo': 'Vuelos a Ciudad de México', 'precio_oferta': Decimal('3876950'), 'precio_normal': Decimal('0'), 'imagen': '//media.staticontent.com/media/pictures/3c9b21c1-c321-4ee6-88eb-de6c9538675f/300x200'}, {'categoria': 'Vuelo', 'titulo': 'Vuelos a Miami', 'precio_oferta': Decimal('781653'), 'precio_normal': Decimal('0'), 'imagen': '//media.staticontent.com/media/pictures/738c0839-6390-4b83-a15c-fef9171cdd96/300x200'}, {'categoria': 'Paquete', 'titulo': 'Paquetes a Santa Marta', 'precio_oferta': Decimal('528334'), 'precio_normal': Decimal('1042266'), 'imagen': '//media.staticontent.com/media/pictures/a0f71baa-7342-44fc-ac4e-29c84adb22cc/300x200'}, {'categoria': 'Alojamiento', 'titulo': 'Hotel Poblado Plaza', 'precio_oferta': Decimal('350400'), 'precio_normal': Decimal('438000'), 'imagen': '//media.staticontent.com/media/pictures/410ac798-9be4-4a26-92b3-59c97baa0d2d/300x200'}, {'categoria': 'Vuelo', 'titulo': 'Vuelos a Cartagena de Indias', 'precio_oferta': Decimal('108459'), 'precio_normal': Decimal('0'), 'imagen': '//media.staticontent.com/media/pictures/5c804847-8b9e-4f22-b2c4-c0a05f2f7e47/300x200'}, {'categoria': 'Alojamiento', 'titulo': 'Hotel Capilla Del Mar', 'precio_oferta': Decimal('392412'), 'precio_normal': Decimal('509626'), 'imagen': '//media.staticontent.com/media/pictures/e10e9950-267c-40bc-b3d9-ea6582b700cf/300x200'}, {'categoria': 'Auto', 'titulo': 'Carros Económicos en Miami', 'precio_oferta': Decimal('145358'), 'precio_normal': Decimal('0'), 'imagen': '//media.staticontent.com/media/pictures/a3dffcfe-734f-445f-9663-29d0f22fbc1b/300x200'}, {'categoria': 'Auto', 'titulo': 'Autos Económicos en Cartagena de Indias', 'precio_oferta': Decimal('110933'), 'precio_normal': Decimal('0'), 'imagen': '//media.staticontent.com/media/pictures/31081cbb-f0cd-4cdc-9718-b209c2350d03/300x200'}, {'categoria': None, 'titulo': None, 'precio_oferta': Decimal('0'), 'precio_normal': Decimal('0'), 'imagen': None}, {'categoria': None, 'titulo': None, 'precio_oferta': Decimal('0'), 'precio_normal': Decimal('0'), 'imagen': None}, {'categoria': None, 'titulo': None, 'precio_oferta': Decimal('0'), 'precio_normal': Decimal('0'), 'imagen': None}, {'categoria': None, 'titulo': None, 'precio_oferta': Decimal('0'), 'precio_normal': Decimal('0'), 'imagen': None}, {'categoria': None, 'titulo': None, 'precio_oferta': Decimal('0'), 'precio_normal': Decimal('0'), 'imagen': None}, {'categoria': None, 'titulo': None, 'precio_oferta': Decimal('0'), 'precio_normal': Decimal('0'), 'imagen': None}, {'categoria': None, 'titulo': None, 'precio_oferta': Decimal('0'), 'precio_normal': Decimal('0'), 'imagen': None}, {'categoria': None, 'titulo': None, 'precio_oferta': Decimal('0'), 'precio_normal': Decimal('0'), 'imagen': None}, {'categoria': None, 'titulo': None, 'precio_oferta': Decimal('0'), 'precio_normal': Decimal('0'), 'imagen': None}, {'categoria': None, 'titulo': None, 'precio_oferta': Decimal('0'), 'precio_normal': Decimal('0'), 'imagen': None}, {'categoria': None, 'titulo': None, 'precio_oferta': Decimal('0'), 'precio_normal': Decimal('0'), 'imagen': None}, {'categoria': None, 'titulo': None, 'precio_oferta': Decimal('0'), 'precio_normal': Decimal('0'), 'imagen': None}, {'categoria': None, 'titulo': None, 'precio_oferta': Decimal('0'), 'precio_normal': Decimal('0'), 'imagen': None}, {'categoria': None, 'titulo': None, 'precio_oferta': Decimal('0'), 'precio_normal': Decimal('0'), 'imagen': None}, {'categoria': None, 'titulo': None, 'precio_oferta': Decimal('0'), 'precio_normal': Decimal('0'), 'imagen': None}, {'categoria': None, 'titulo': None, 'precio_oferta': Decimal('0'), 'precio_normal': Decimal('0'), 'imagen': None}, {'categoria': None, 'titulo': None, 'precio_oferta': Decimal('0'), 'precio_normal': Decimal('0'), 'imagen': None}, {'categoria': None, 'titulo': None, 'precio_oferta': Decimal('0'), 'precio_normal': Decimal('0'), 'imagen': None}, {'categoria': None, 'titulo': None, 'precio_oferta': Decimal('0'), 'precio_normal': Decimal('0'), 'imagen': None}, {'categoria': None, 'titulo': None, 'precio_oferta': Decimal('0'), 'precio_normal': Decimal('0'), 'imagen': None}, {'categoria': None, 'titulo': None, 'precio_oferta': Decimal('0'), 'precio_normal': Decimal('0'), 'imagen': None}, {'categoria': None, 'titulo': None, 'precio_oferta': Decimal('0'), 'precio_normal': Decimal('0'), 'imagen': None}]\n"
     ]
    }
   ],
   "source": [
    "# convert string to decimal\n",
    "for promocion in promociones_lista:\n",
    "    promocion['precio_oferta'] = Decimal(promocion['precio_oferta'])\n",
    "    promocion['precio_normal'] = Decimal(promocion['precio_normal'])\n",
    "print(promociones_lista)"
   ]
  },
  {
   "cell_type": "code",
   "execution_count": 22,
   "metadata": {},
   "outputs": [
    {
     "name": "stdout",
     "output_type": "stream",
     "text": [
      "      categoria                                   titulo precio_oferta  \\\n",
      "0       Paquete                      Paquetes a Medellín        502663   \n",
      "1       Paquete                    Paquetes a Punta Cana       2291632   \n",
      "2       Paquete                         Paquetes a Miami       2726593   \n",
      "3       Paquete                       Paquetes a Leticia        567632   \n",
      "4       Paquete                Paquetes a Rio de Janeiro       2749732   \n",
      "5         Vuelo                           Vuelo a Cancún        871267   \n",
      "6         Vuelo                Vuelo a Santiago de Chile        927203   \n",
      "7         Vuelo                            Vuelo a Dubái       2730320   \n",
      "8         Vuelo                        Vuelo a La Habana       1636860   \n",
      "9         Vuelo                             Vuelo a Roma       2243106   \n",
      "10        Vuelo                         Vuelo a Asunción       1081580   \n",
      "11        Vuelo                        Vuelos a Medellín        126101   \n",
      "12        Vuelo             Vuelos a Cartagena de Indias        146580   \n",
      "13        Vuelo                     Vuelos a Santa Marta        147241   \n",
      "14      Paquete                    Paquetes a San Andrés       1476928   \n",
      "15        Vuelo                            Vuelos a Cali        133318   \n",
      "16  Alojamiento                                UGO Hotel        276432   \n",
      "17    Actividad      Entradas a Parques Temáticos Disney        520896   \n",
      "18  Alojamiento                      Hotel Calypso Beach        614757   \n",
      "19        Vuelo                Vuelos a Ciudad de México       3876950   \n",
      "20        Vuelo                           Vuelos a Miami        781653   \n",
      "21      Paquete                   Paquetes a Santa Marta        528334   \n",
      "22  Alojamiento                      Hotel Poblado Plaza        350400   \n",
      "23        Vuelo             Vuelos a Cartagena de Indias        108459   \n",
      "24  Alojamiento                    Hotel Capilla Del Mar        392412   \n",
      "25         Auto               Carros Económicos en Miami        145358   \n",
      "26         Auto  Autos Económicos en Cartagena de Indias        110933   \n",
      "27         None                                     None             0   \n",
      "28         None                                     None             0   \n",
      "29         None                                     None             0   \n",
      "30         None                                     None             0   \n",
      "31         None                                     None             0   \n",
      "32         None                                     None             0   \n",
      "33         None                                     None             0   \n",
      "34         None                                     None             0   \n",
      "35         None                                     None             0   \n",
      "36         None                                     None             0   \n",
      "37         None                                     None             0   \n",
      "38         None                                     None             0   \n",
      "39         None                                     None             0   \n",
      "40         None                                     None             0   \n",
      "41         None                                     None             0   \n",
      "42         None                                     None             0   \n",
      "43         None                                     None             0   \n",
      "44         None                                     None             0   \n",
      "45         None                                     None             0   \n",
      "46         None                                     None             0   \n",
      "47         None                                     None             0   \n",
      "48         None                                     None             0   \n",
      "\n",
      "   precio_normal                                             imagen  \n",
      "0         868351  //media.staticontent.com/media/pictures/d9206b...  \n",
      "1        2891724  //media.staticontent.com/media/pictures/c98f73...  \n",
      "2        2886464  //media.staticontent.com/media/pictures/d6f408...  \n",
      "3              0  //media.staticontent.com/media/pictures/4584c2...  \n",
      "4        3056239  //media.staticontent.com/media/pictures/748a1d...  \n",
      "5              0  //media.staticontent.com/media/pictures/0a660d...  \n",
      "6              0  //media.staticontent.com/media/pictures/8be15b...  \n",
      "7              0  //media.staticontent.com/media/pictures/457276...  \n",
      "8              0  //media.staticontent.com/media/pictures/c42fab...  \n",
      "9              0  //media.staticontent.com/media/pictures/9638ed...  \n",
      "10             0  //media.staticontent.com/media/pictures/e2beea...  \n",
      "11             0  //media.staticontent.com/media/pictures/77cef6...  \n",
      "12             0  //media.staticontent.com/media/pictures/d83039...  \n",
      "13             0  //media.staticontent.com/media/pictures/66273b...  \n",
      "14       2253768  //media.staticontent.com/media/pictures/f96dcb...  \n",
      "15             0  //media.staticontent.com/media/pictures/546c3a...  \n",
      "16             0  //media.staticontent.com/media/pictures/a11b89...  \n",
      "17             0  //media.staticontent.com/media/pictures/a1a798...  \n",
      "18             0  //media.staticontent.com/media/pictures/310ff2...  \n",
      "19             0  //media.staticontent.com/media/pictures/3c9b21...  \n",
      "20             0  //media.staticontent.com/media/pictures/738c08...  \n",
      "21       1042266  //media.staticontent.com/media/pictures/a0f71b...  \n",
      "22        438000  //media.staticontent.com/media/pictures/410ac7...  \n",
      "23             0  //media.staticontent.com/media/pictures/5c8048...  \n",
      "24        509626  //media.staticontent.com/media/pictures/e10e99...  \n",
      "25             0  //media.staticontent.com/media/pictures/a3dffc...  \n",
      "26             0  //media.staticontent.com/media/pictures/31081c...  \n",
      "27             0                                               None  \n",
      "28             0                                               None  \n",
      "29             0                                               None  \n",
      "30             0                                               None  \n",
      "31             0                                               None  \n",
      "32             0                                               None  \n",
      "33             0                                               None  \n",
      "34             0                                               None  \n",
      "35             0                                               None  \n",
      "36             0                                               None  \n",
      "37             0                                               None  \n",
      "38             0                                               None  \n",
      "39             0                                               None  \n",
      "40             0                                               None  \n",
      "41             0                                               None  \n",
      "42             0                                               None  \n",
      "43             0                                               None  \n",
      "44             0                                               None  \n",
      "45             0                                               None  \n",
      "46             0                                               None  \n",
      "47             0                                               None  \n",
      "48             0                                               None  \n"
     ]
    }
   ],
   "source": [
    "# crear un dataframe\n",
    "df = pd.DataFrame(promociones_lista)\n",
    "df.columns = ['categoria', 'titulo', 'precio_oferta', 'precio_normal', 'imagen']\n",
    "df.to_csv('promociones.csv', index=False, encoding='utf-8-sig')\n",
    "print(df)\n",
    "\n"
   ]
  }
 ],
 "metadata": {
  "interpreter": {
   "hash": "6c3ed7ee24fab0329143935c7a8d1152471eb3ca2f0e5c54769f25c716a07dbd"
  },
  "kernelspec": {
   "display_name": "Python 3.8.12 64-bit ('scraping': conda)",
   "language": "python",
   "name": "python3"
  },
  "language_info": {
   "codemirror_mode": {
    "name": "ipython",
    "version": 3
   },
   "file_extension": ".py",
   "mimetype": "text/x-python",
   "name": "python",
   "nbconvert_exporter": "python",
   "pygments_lexer": "ipython3",
   "version": "3.8.12"
  },
  "orig_nbformat": 4
 },
 "nbformat": 4,
 "nbformat_minor": 2
}

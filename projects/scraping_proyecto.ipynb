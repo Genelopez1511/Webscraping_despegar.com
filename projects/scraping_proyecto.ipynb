{
 "cells": [
  {
   "cell_type": "code",
   "execution_count": 2,
   "metadata": {},
   "outputs": [],
   "source": [
    "from bs4 import BeautifulSoup\n",
    "from selenium import webdriver # módulo que contiene implementaciones de controladores de navegadores web\n",
    "from webdriver_manager.chrome import ChromeDriverManager # controlador de Chrome  \n",
    "from selenium.webdriver.support import expected_conditions as EC # método para escribir códigos que esperan hasta que ciertas condiciones sean cumplidas\n",
    "from selenium.webdriver.support.ui import WebDriverWait # método para escribir códigos que utilizan esperas implícitas o explícitas\n",
    "from selenium.webdriver.common.by import By # método para localizar elementos por sus atributos HTML\n",
    "from selenium.webdriver import ActionChains # módulo para implementar interacciones con el navegador from selenium import webdriver\n",
    "from selenium.webdriver.chrome.options import Options\n",
    "from decimal import Decimal\n",
    "from pandas import DataFrame \n",
    "import pandas as pd\n",
    "import numpy as np\n"
   ]
  },
  {
   "cell_type": "code",
   "execution_count": 3,
   "metadata": {},
   "outputs": [],
   "source": [
    "chrome_options = Options()\n",
    "chrome_options.add_argument('--headless')\n",
    "chrome_options.add_argument('--no-sandbox')\n",
    "chrome_options.add_argument('--disable-dev-shm-usage')\n",
    "#d = webdriver.Chrome('your-chrome-driver-path',chrome_options=chrome_options)"
   ]
  },
  {
   "cell_type": "code",
   "execution_count": 4,
   "metadata": {},
   "outputs": [
    {
     "name": "stderr",
     "output_type": "stream",
     "text": [
      "[WDM] - Current google-chrome version is 97.0.4692\n",
      "[WDM] - Get LATEST driver version for 97.0.4692\n",
      "[WDM] - Driver [/home/genesis/.wdm/drivers/chromedriver/linux64/97.0.4692.71/chromedriver] found in cache\n"
     ]
    },
    {
     "name": "stdout",
     "output_type": "stream",
     "text": [
      " \n"
     ]
    }
   ],
   "source": [
    "# Inicializa la página web en el navegador Chrome\n",
    "driver = webdriver.Chrome(ChromeDriverManager().install(),chrome_options=chrome_options)\n",
    "url = 'https://www.despegar.com.co/'\n",
    "driver.get(url) # aca le pido al webdriver que me traiga la pagina que le solicite en url"
   ]
  },
  {
   "cell_type": "code",
   "execution_count": 5,
   "metadata": {},
   "outputs": [
    {
     "name": "stdout",
     "output_type": "stream",
     "text": [
      "https://www.despegar.com.co/\n"
     ]
    }
   ],
   "source": [
    "elemento_oferta = '.shifu-3-header .header-corners-container .header-product-item .shifu-3-button-circle.OFFERS'\n",
    "delay = 10\n",
    "try:\n",
    "    element_present = EC.presence_of_element_located((By.CSS_SELECTOR, elemento_oferta))\n",
    "    WebDriverWait(driver, delay).until(element_present)\n",
    "except TimeoutError:\n",
    "    print('Timed out waiting for page to load')\n",
    "print(driver.current_url)\n"
   ]
  },
  {
   "cell_type": "code",
   "execution_count": 6,
   "metadata": {},
   "outputs": [
    {
     "name": "stdout",
     "output_type": "stream",
     "text": [
      "https://www.despegar.com.co/ofertas-de-viajes\n"
     ]
    }
   ],
   "source": [
    "element1 = driver.find_element_by_css_selector(elemento_oferta)\n",
    "ActionChains(driver).click(element1).perform()\n",
    "print(driver.current_url)"
   ]
  },
  {
   "cell_type": "code",
   "execution_count": 7,
   "metadata": {},
   "outputs": [],
   "source": [
    "soup = BeautifulSoup(driver.page_source, 'html.parser')\n",
    "driver.quit()\n"
   ]
  },
  {
   "cell_type": "code",
   "execution_count": 8,
   "metadata": {},
   "outputs": [],
   "source": [
    "etiqueta_promociones = soup.select('slider-item')  # selecciona todos los elementos que tienen la clase slider-item"
   ]
  },
  {
   "cell_type": "code",
   "execution_count": 9,
   "metadata": {},
   "outputs": [
    {
     "name": "stdout",
     "output_type": "stream",
     "text": [
      "Paquetes a Cartagena de Indias //media.staticontent.com/media/pictures/6da6dac8-9b49-435b-9879-27d6ffdee071/300x200 Paquete 311.221  $537.687 \n",
      "Paquetes a Cali //media.staticontent.com/media/pictures/a857f04c-3a2a-4201-93da-864454c20815/300x200 Paquete 364.932  $621.978 \n",
      "Paquetes a San Andrés //media.staticontent.com/media/pictures/1d2f5ba8-fe90-42a0-aca4-dc62014cef6b/300x200 Paquete 804.606  $874.273 \n",
      "Paquetes a Cancún //media.staticontent.com/media/pictures/f7a9fc57-3452-46e0-8673-a97326cc6e6a/300x200 Paquete 2.141.410  $2.450.024 \n",
      "Paquetes a Ciudad de México //media.staticontent.com/media/pictures/76cd20fa-c780-4353-ac28-f91e32132094/300x200 Paquete 1.356.213  $1.936.761 \n",
      "Paquetes a Madrid //media.staticontent.com/media/pictures/13c15223-95d4-432a-8787-dd5559beebfc/300x200 Paquete 2.467.729  $2.606.070 \n",
      "Paquetes a Panamá //media.staticontent.com/media/pictures/47408bb2-90b3-41f7-aa07-7514c25f7480/300x200 Paquete 1.056.942  $1.260.844 \n",
      "Paquetes a Buenos Aires //media.staticontent.com/media/pictures/a5b3697c-3344-4c05-88ed-66d9cf6d26c5/300x200 Paquete 2.320.414  $2.990.675 \n",
      "Vuelo a Madrid //media.staticontent.com/media/pictures/811a7b53-a16d-4045-877a-5b3f2d904939/300x200 Vuelo 1.664.160 None\n",
      "Panamá + La Habana //media.staticontent.com/media/pictures/25e197fa-6fdf-4dcc-bd50-cf8087c21627/300x200 Vuelo 2.008.360 None\n",
      "Vuelo a Cancún //media.staticontent.com/media/pictures/1562c500-548e-4339-8cf6-2d6754007e5f/300x200 Vuelo 866.757 None\n",
      "Vuelo a Santiago de Chile //media.staticontent.com/media/pictures/3a0ad42f-ab88-49f3-9302-2d875cef0c07/300x200 Vuelo 930.708 None\n",
      "Vuelo a Barranquilla //media.staticontent.com/media/pictures/031c0072-cfdd-47ba-b712-cb15472132c3/300x200 Vuelo 144.060 None\n",
      "Vuelo a Monteria //media.staticontent.com/media/pictures/3a5270d6-0371-4780-bdb5-f45512b8d0be/300x200 Vuelo 136.590 None\n",
      "Vuelo a Nueva York //media.staticontent.com/media/pictures/aa4c9a4d-6949-4853-a74c-1a3d6ce777ed/300x200 Vuelo 806.450 None\n",
      "Vuelo a Punta Cana //media.staticontent.com/media/pictures/417006d8-5bc0-4b37-b525-16f6fe0516bd/300x200 Vuelo 871.009 None\n",
      "Vuelos a Medellín //media.staticontent.com/media/pictures/56234749-08bf-4c05-a2de-617ce8941972/300x200 Vuelo 76.737 None\n",
      "Vuelos a Cartagena de Indias //media.staticontent.com/media/pictures/59a7746b-75a5-4ccf-97f5-88f8d40e9f47/300x200 Vuelo 90.121 None\n",
      "Vuelos a Santa Marta //media.staticontent.com/media/pictures/dbd97d42-2312-41b4-8097-5ab189c2cbfc/300x200 Vuelo 97.165 None\n",
      "Paquetes a San Andrés //media.staticontent.com/media/pictures/edfd2b87-2d0b-4ace-944d-804f3fb15057/300x200 Paquete 1.200.677  $1.809.855 \n",
      "Vuelos a Cali //media.staticontent.com/media/pictures/29211d41-e73a-4e87-a330-fb647103f137/300x200 Vuelo 74.660 None\n",
      "UGO Hotel //media.staticontent.com/media/pictures/a11b893a-1d88-41c9-916d-69706770c7c7/300x200 Alojamiento 273.984 None\n",
      "Entradas a Parques Temáticos Disney //media.staticontent.com/media/pictures/a1a798f7-f4ab-4583-b4f2-cc17a5b1fef8/300x200 Actividad 516.283 None\n",
      "Hotel Calypso Beach //media.staticontent.com/media/pictures/310ff2bd-d37d-498e-937e-bca37a310cb7/300x200 Alojamiento 612.886 None\n",
      "Vuelos a Ciudad de México //media.staticontent.com/media/pictures/2fefbd59-69e7-408a-ac96-8bd806b9f693/300x200 Vuelo 4.862.622 None\n",
      "Vuelos a Miami //media.staticontent.com/media/pictures/d2829cc9-46ae-42f8-ae68-d3ee165c7f4e/300x200 Vuelo 716.870 None\n",
      "Paquetes a Santa Marta //media.staticontent.com/media/pictures/4a43b624-fee8-401d-a74f-4bde6bf58d22/300x200 Paquete 427.063  $940.809 \n",
      "Hotel Poblado Plaza //media.staticontent.com/media/pictures/410ac798-9be4-4a26-92b3-59c97baa0d2d/300x200 Alojamiento 350.400  $438.000 \n",
      "Carros Económicos en Miami //media.staticontent.com/media/pictures/82a8de0f-9bf6-4408-a676-c58bca356a61/300x200 Auto 180.092 None\n",
      "Autos Económicos en Cartagena de Indias //media.staticontent.com/media/pictures/1c2f2914-2fda-4bde-80de-daff75596434/300x200 Auto 110.933 None\n",
      "Vuelos a Cartagena de Indias //media.staticontent.com/media/pictures/24a1d578-9bd1-4f8d-9a32-1ebcd85cdf9e/300x200 Vuelo 82.010 None\n",
      "Hotel Capilla Del Mar //media.staticontent.com/media/pictures/e10e9950-267c-40bc-b3d9-ea6582b700cf/300x200 Alojamiento 392.412  $509.626 \n"
     ]
    }
   ],
   "source": [
    "def chequear_nulo(etiqueta):\n",
    "    if etiqueta is not None:\n",
    "        return str(etiqueta.text)\n",
    "  \n",
    "\n",
    "def chequear_imagen(etiqueta):\n",
    "    if etiqueta is not None:\n",
    "        return etiqueta['src']\n",
    "\n",
    "for etiqueta in etiqueta_promociones:\n",
    "    titulo = etiqueta.select_one('.offer-card-title.small-title ')\n",
    "    if titulo == None:\n",
    "        continue\n",
    "    imagen = etiqueta.select_one('.offer-card-image .offer-card-image-main')\n",
    "    categoria = etiqueta.select_one('.offer-card-product')\n",
    "    precio_oferta = etiqueta.select_one('.offer-card-pricebox-price-amount ')\n",
    "    precio_normal = etiqueta.select_one('.offer-card-pricebox-price .offer-card-pricebox-price-old')\n",
    "    print(chequear_nulo(titulo),chequear_imagen(imagen),chequear_nulo(categoria),chequear_nulo(precio_oferta),chequear_nulo(precio_normal), end='\\n')\n",
    "\n",
    "   "
   ]
  },
  {
   "cell_type": "code",
   "execution_count": 10,
   "metadata": {},
   "outputs": [
    {
     "name": "stdout",
     "output_type": "stream",
     "text": [
      "[{'categoria': 'Paquete', 'titulo': 'Paquetes a Cartagena de Indias', 'precio_oferta': '311221', 'precio_normal': ' 537687 ', 'imagen': '//media.staticontent.com/media/pictures/6da6dac8-9b49-435b-9879-27d6ffdee071/300x200'}, {'categoria': 'Paquete', 'titulo': 'Paquetes a Cali', 'precio_oferta': '364932', 'precio_normal': ' 621978 ', 'imagen': '//media.staticontent.com/media/pictures/a857f04c-3a2a-4201-93da-864454c20815/300x200'}, {'categoria': 'Paquete', 'titulo': 'Paquetes a San Andrés', 'precio_oferta': '804606', 'precio_normal': ' 874273 ', 'imagen': '//media.staticontent.com/media/pictures/1d2f5ba8-fe90-42a0-aca4-dc62014cef6b/300x200'}, {'categoria': 'Paquete', 'titulo': 'Paquetes a Cancún', 'precio_oferta': '2141410', 'precio_normal': ' 2450024 ', 'imagen': '//media.staticontent.com/media/pictures/f7a9fc57-3452-46e0-8673-a97326cc6e6a/300x200'}, {'categoria': 'Paquete', 'titulo': 'Paquetes a Ciudad de México', 'precio_oferta': '1356213', 'precio_normal': ' 1936761 ', 'imagen': '//media.staticontent.com/media/pictures/76cd20fa-c780-4353-ac28-f91e32132094/300x200'}, {'categoria': 'Paquete', 'titulo': 'Paquetes a Madrid', 'precio_oferta': '2467729', 'precio_normal': ' 2606070 ', 'imagen': '//media.staticontent.com/media/pictures/13c15223-95d4-432a-8787-dd5559beebfc/300x200'}, {'categoria': 'Paquete', 'titulo': 'Paquetes a Panamá', 'precio_oferta': '1056942', 'precio_normal': ' 1260844 ', 'imagen': '//media.staticontent.com/media/pictures/47408bb2-90b3-41f7-aa07-7514c25f7480/300x200'}, {'categoria': 'Paquete', 'titulo': 'Paquetes a Buenos Aires', 'precio_oferta': '2320414', 'precio_normal': ' 2990675 ', 'imagen': '//media.staticontent.com/media/pictures/a5b3697c-3344-4c05-88ed-66d9cf6d26c5/300x200'}, {'categoria': 'Vuelo', 'titulo': 'Vuelo a Madrid', 'precio_oferta': '1664160', 'precio_normal': 0, 'imagen': '//media.staticontent.com/media/pictures/811a7b53-a16d-4045-877a-5b3f2d904939/300x200'}, {'categoria': 'Vuelo', 'titulo': 'Panamá + La Habana', 'precio_oferta': '2008360', 'precio_normal': 0, 'imagen': '//media.staticontent.com/media/pictures/25e197fa-6fdf-4dcc-bd50-cf8087c21627/300x200'}, {'categoria': 'Vuelo', 'titulo': 'Vuelo a Cancún', 'precio_oferta': '866757', 'precio_normal': 0, 'imagen': '//media.staticontent.com/media/pictures/1562c500-548e-4339-8cf6-2d6754007e5f/300x200'}, {'categoria': 'Vuelo', 'titulo': 'Vuelo a Santiago de Chile', 'precio_oferta': '930708', 'precio_normal': 0, 'imagen': '//media.staticontent.com/media/pictures/3a0ad42f-ab88-49f3-9302-2d875cef0c07/300x200'}, {'categoria': 'Vuelo', 'titulo': 'Vuelo a Barranquilla', 'precio_oferta': '144060', 'precio_normal': 0, 'imagen': '//media.staticontent.com/media/pictures/031c0072-cfdd-47ba-b712-cb15472132c3/300x200'}, {'categoria': 'Vuelo', 'titulo': 'Vuelo a Monteria', 'precio_oferta': '136590', 'precio_normal': 0, 'imagen': '//media.staticontent.com/media/pictures/3a5270d6-0371-4780-bdb5-f45512b8d0be/300x200'}, {'categoria': 'Vuelo', 'titulo': 'Vuelo a Nueva York', 'precio_oferta': '806450', 'precio_normal': 0, 'imagen': '//media.staticontent.com/media/pictures/aa4c9a4d-6949-4853-a74c-1a3d6ce777ed/300x200'}, {'categoria': 'Vuelo', 'titulo': 'Vuelo a Punta Cana', 'precio_oferta': '871009', 'precio_normal': 0, 'imagen': '//media.staticontent.com/media/pictures/417006d8-5bc0-4b37-b525-16f6fe0516bd/300x200'}, {'categoria': 'Vuelo', 'titulo': 'Vuelos a Medellín', 'precio_oferta': '76737', 'precio_normal': 0, 'imagen': '//media.staticontent.com/media/pictures/56234749-08bf-4c05-a2de-617ce8941972/300x200'}, {'categoria': 'Vuelo', 'titulo': 'Vuelos a Cartagena de Indias', 'precio_oferta': '90121', 'precio_normal': 0, 'imagen': '//media.staticontent.com/media/pictures/59a7746b-75a5-4ccf-97f5-88f8d40e9f47/300x200'}, {'categoria': 'Vuelo', 'titulo': 'Vuelos a Santa Marta', 'precio_oferta': '97165', 'precio_normal': 0, 'imagen': '//media.staticontent.com/media/pictures/dbd97d42-2312-41b4-8097-5ab189c2cbfc/300x200'}, {'categoria': 'Paquete', 'titulo': 'Paquetes a San Andrés', 'precio_oferta': '1200677', 'precio_normal': ' 1809855 ', 'imagen': '//media.staticontent.com/media/pictures/edfd2b87-2d0b-4ace-944d-804f3fb15057/300x200'}, {'categoria': 'Vuelo', 'titulo': 'Vuelos a Cali', 'precio_oferta': '74660', 'precio_normal': 0, 'imagen': '//media.staticontent.com/media/pictures/29211d41-e73a-4e87-a330-fb647103f137/300x200'}, {'categoria': 'Alojamiento', 'titulo': 'UGO Hotel', 'precio_oferta': '273984', 'precio_normal': 0, 'imagen': '//media.staticontent.com/media/pictures/a11b893a-1d88-41c9-916d-69706770c7c7/300x200'}, {'categoria': 'Actividad', 'titulo': 'Entradas a Parques Temáticos Disney', 'precio_oferta': '516283', 'precio_normal': 0, 'imagen': '//media.staticontent.com/media/pictures/a1a798f7-f4ab-4583-b4f2-cc17a5b1fef8/300x200'}, {'categoria': 'Alojamiento', 'titulo': 'Hotel Calypso Beach', 'precio_oferta': '612886', 'precio_normal': 0, 'imagen': '//media.staticontent.com/media/pictures/310ff2bd-d37d-498e-937e-bca37a310cb7/300x200'}, {'categoria': 'Vuelo', 'titulo': 'Vuelos a Ciudad de México', 'precio_oferta': '4862622', 'precio_normal': 0, 'imagen': '//media.staticontent.com/media/pictures/2fefbd59-69e7-408a-ac96-8bd806b9f693/300x200'}, {'categoria': 'Vuelo', 'titulo': 'Vuelos a Miami', 'precio_oferta': '716870', 'precio_normal': 0, 'imagen': '//media.staticontent.com/media/pictures/d2829cc9-46ae-42f8-ae68-d3ee165c7f4e/300x200'}, {'categoria': 'Paquete', 'titulo': 'Paquetes a Santa Marta', 'precio_oferta': '427063', 'precio_normal': ' 940809 ', 'imagen': '//media.staticontent.com/media/pictures/4a43b624-fee8-401d-a74f-4bde6bf58d22/300x200'}, {'categoria': 'Alojamiento', 'titulo': 'Hotel Poblado Plaza', 'precio_oferta': '350400', 'precio_normal': ' 438000 ', 'imagen': '//media.staticontent.com/media/pictures/410ac798-9be4-4a26-92b3-59c97baa0d2d/300x200'}, {'categoria': 'Auto', 'titulo': 'Carros Económicos en Miami', 'precio_oferta': '180092', 'precio_normal': 0, 'imagen': '//media.staticontent.com/media/pictures/82a8de0f-9bf6-4408-a676-c58bca356a61/300x200'}, {'categoria': 'Auto', 'titulo': 'Autos Económicos en Cartagena de Indias', 'precio_oferta': '110933', 'precio_normal': 0, 'imagen': '//media.staticontent.com/media/pictures/1c2f2914-2fda-4bde-80de-daff75596434/300x200'}, {'categoria': 'Vuelo', 'titulo': 'Vuelos a Cartagena de Indias', 'precio_oferta': '82010', 'precio_normal': 0, 'imagen': '//media.staticontent.com/media/pictures/24a1d578-9bd1-4f8d-9a32-1ebcd85cdf9e/300x200'}, {'categoria': 'Alojamiento', 'titulo': 'Hotel Capilla Del Mar', 'precio_oferta': '392412', 'precio_normal': ' 509626 ', 'imagen': '//media.staticontent.com/media/pictures/e10e9950-267c-40bc-b3d9-ea6582b700cf/300x200'}, {'categoria': None, 'titulo': None, 'precio_oferta': 0, 'precio_normal': 0, 'imagen': None}, {'categoria': None, 'titulo': None, 'precio_oferta': 0, 'precio_normal': 0, 'imagen': None}, {'categoria': None, 'titulo': None, 'precio_oferta': 0, 'precio_normal': 0, 'imagen': None}, {'categoria': None, 'titulo': None, 'precio_oferta': 0, 'precio_normal': 0, 'imagen': None}, {'categoria': None, 'titulo': None, 'precio_oferta': 0, 'precio_normal': 0, 'imagen': None}, {'categoria': None, 'titulo': None, 'precio_oferta': 0, 'precio_normal': 0, 'imagen': None}, {'categoria': None, 'titulo': None, 'precio_oferta': 0, 'precio_normal': 0, 'imagen': None}, {'categoria': None, 'titulo': None, 'precio_oferta': 0, 'precio_normal': 0, 'imagen': None}, {'categoria': None, 'titulo': None, 'precio_oferta': 0, 'precio_normal': 0, 'imagen': None}, {'categoria': None, 'titulo': None, 'precio_oferta': 0, 'precio_normal': 0, 'imagen': None}, {'categoria': None, 'titulo': None, 'precio_oferta': 0, 'precio_normal': 0, 'imagen': None}, {'categoria': None, 'titulo': None, 'precio_oferta': 0, 'precio_normal': 0, 'imagen': None}, {'categoria': None, 'titulo': None, 'precio_oferta': 0, 'precio_normal': 0, 'imagen': None}, {'categoria': None, 'titulo': None, 'precio_oferta': 0, 'precio_normal': 0, 'imagen': None}, {'categoria': None, 'titulo': None, 'precio_oferta': 0, 'precio_normal': 0, 'imagen': None}, {'categoria': None, 'titulo': None, 'precio_oferta': 0, 'precio_normal': 0, 'imagen': None}, {'categoria': None, 'titulo': None, 'precio_oferta': 0, 'precio_normal': 0, 'imagen': None}, {'categoria': None, 'titulo': None, 'precio_oferta': 0, 'precio_normal': 0, 'imagen': None}, {'categoria': None, 'titulo': None, 'precio_oferta': 0, 'precio_normal': 0, 'imagen': None}, {'categoria': None, 'titulo': None, 'precio_oferta': 0, 'precio_normal': 0, 'imagen': None}, {'categoria': None, 'titulo': None, 'precio_oferta': 0, 'precio_normal': 0, 'imagen': None}, {'categoria': None, 'titulo': None, 'precio_oferta': 0, 'precio_normal': 0, 'imagen': None}]\n"
     ]
    }
   ],
   "source": [
    "\n",
    "\n",
    "# crear una lista de diccionarios\n",
    "promociones_lista = []\n",
    "promociones = {}\n",
    "import sys\n",
    "for etiqueta in etiqueta_promociones:\n",
    "    try:\n",
    "        promociones['categoria'] = chequear_nulo(etiqueta.select_one('.offer-card-product'))\n",
    "        promociones['titulo'] = chequear_nulo(etiqueta.select_one('.offer-card-title.small-title'))\n",
    "        promociones['precio_oferta'] = (chequear_nulo(etiqueta.select_one('.offer-card-pricebox-price-amount')))\n",
    "        if promociones['precio_oferta'] != None:\n",
    "            promociones['precio_oferta'] = promociones['precio_oferta'].replace('$','').replace('.','')\n",
    "        else:\n",
    "            promociones['precio_oferta'] = 0\n",
    "           \n",
    "        promociones['precio_normal'] = chequear_nulo(etiqueta.select_one('.offer-card-pricebox-price .offer-card-pricebox-price-old'))\n",
    "        if promociones['precio_normal'] != None:\n",
    "            promociones['precio_normal'] = promociones['precio_normal'].replace('$','').replace('.','')\n",
    "        else:\n",
    "            promociones['precio_normal'] = 0\n",
    "        promociones['imagen'] = chequear_imagen(etiqueta.select_one('.offer-card-image .offer-card-image-main'))\n",
    "    except:\n",
    "        # print the exception\n",
    "        print(sys.exc_info()[0])\n",
    "        continue \n",
    "    promociones_lista.append(promociones.copy())\n",
    "print(promociones_lista)\n"
   ]
  },
  {
   "cell_type": "code",
   "execution_count": 11,
   "metadata": {},
   "outputs": [
    {
     "name": "stdout",
     "output_type": "stream",
     "text": [
      "[{'categoria': 'Paquete', 'titulo': 'Paquetes a Cartagena de Indias', 'precio_oferta': Decimal('311221'), 'precio_normal': Decimal('537687'), 'imagen': '//media.staticontent.com/media/pictures/6da6dac8-9b49-435b-9879-27d6ffdee071/300x200'}, {'categoria': 'Paquete', 'titulo': 'Paquetes a Cali', 'precio_oferta': Decimal('364932'), 'precio_normal': Decimal('621978'), 'imagen': '//media.staticontent.com/media/pictures/a857f04c-3a2a-4201-93da-864454c20815/300x200'}, {'categoria': 'Paquete', 'titulo': 'Paquetes a San Andrés', 'precio_oferta': Decimal('804606'), 'precio_normal': Decimal('874273'), 'imagen': '//media.staticontent.com/media/pictures/1d2f5ba8-fe90-42a0-aca4-dc62014cef6b/300x200'}, {'categoria': 'Paquete', 'titulo': 'Paquetes a Cancún', 'precio_oferta': Decimal('2141410'), 'precio_normal': Decimal('2450024'), 'imagen': '//media.staticontent.com/media/pictures/f7a9fc57-3452-46e0-8673-a97326cc6e6a/300x200'}, {'categoria': 'Paquete', 'titulo': 'Paquetes a Ciudad de México', 'precio_oferta': Decimal('1356213'), 'precio_normal': Decimal('1936761'), 'imagen': '//media.staticontent.com/media/pictures/76cd20fa-c780-4353-ac28-f91e32132094/300x200'}, {'categoria': 'Paquete', 'titulo': 'Paquetes a Madrid', 'precio_oferta': Decimal('2467729'), 'precio_normal': Decimal('2606070'), 'imagen': '//media.staticontent.com/media/pictures/13c15223-95d4-432a-8787-dd5559beebfc/300x200'}, {'categoria': 'Paquete', 'titulo': 'Paquetes a Panamá', 'precio_oferta': Decimal('1056942'), 'precio_normal': Decimal('1260844'), 'imagen': '//media.staticontent.com/media/pictures/47408bb2-90b3-41f7-aa07-7514c25f7480/300x200'}, {'categoria': 'Paquete', 'titulo': 'Paquetes a Buenos Aires', 'precio_oferta': Decimal('2320414'), 'precio_normal': Decimal('2990675'), 'imagen': '//media.staticontent.com/media/pictures/a5b3697c-3344-4c05-88ed-66d9cf6d26c5/300x200'}, {'categoria': 'Vuelo', 'titulo': 'Vuelo a Madrid', 'precio_oferta': Decimal('1664160'), 'precio_normal': Decimal('0'), 'imagen': '//media.staticontent.com/media/pictures/811a7b53-a16d-4045-877a-5b3f2d904939/300x200'}, {'categoria': 'Vuelo', 'titulo': 'Panamá + La Habana', 'precio_oferta': Decimal('2008360'), 'precio_normal': Decimal('0'), 'imagen': '//media.staticontent.com/media/pictures/25e197fa-6fdf-4dcc-bd50-cf8087c21627/300x200'}, {'categoria': 'Vuelo', 'titulo': 'Vuelo a Cancún', 'precio_oferta': Decimal('866757'), 'precio_normal': Decimal('0'), 'imagen': '//media.staticontent.com/media/pictures/1562c500-548e-4339-8cf6-2d6754007e5f/300x200'}, {'categoria': 'Vuelo', 'titulo': 'Vuelo a Santiago de Chile', 'precio_oferta': Decimal('930708'), 'precio_normal': Decimal('0'), 'imagen': '//media.staticontent.com/media/pictures/3a0ad42f-ab88-49f3-9302-2d875cef0c07/300x200'}, {'categoria': 'Vuelo', 'titulo': 'Vuelo a Barranquilla', 'precio_oferta': Decimal('144060'), 'precio_normal': Decimal('0'), 'imagen': '//media.staticontent.com/media/pictures/031c0072-cfdd-47ba-b712-cb15472132c3/300x200'}, {'categoria': 'Vuelo', 'titulo': 'Vuelo a Monteria', 'precio_oferta': Decimal('136590'), 'precio_normal': Decimal('0'), 'imagen': '//media.staticontent.com/media/pictures/3a5270d6-0371-4780-bdb5-f45512b8d0be/300x200'}, {'categoria': 'Vuelo', 'titulo': 'Vuelo a Nueva York', 'precio_oferta': Decimal('806450'), 'precio_normal': Decimal('0'), 'imagen': '//media.staticontent.com/media/pictures/aa4c9a4d-6949-4853-a74c-1a3d6ce777ed/300x200'}, {'categoria': 'Vuelo', 'titulo': 'Vuelo a Punta Cana', 'precio_oferta': Decimal('871009'), 'precio_normal': Decimal('0'), 'imagen': '//media.staticontent.com/media/pictures/417006d8-5bc0-4b37-b525-16f6fe0516bd/300x200'}, {'categoria': 'Vuelo', 'titulo': 'Vuelos a Medellín', 'precio_oferta': Decimal('76737'), 'precio_normal': Decimal('0'), 'imagen': '//media.staticontent.com/media/pictures/56234749-08bf-4c05-a2de-617ce8941972/300x200'}, {'categoria': 'Vuelo', 'titulo': 'Vuelos a Cartagena de Indias', 'precio_oferta': Decimal('90121'), 'precio_normal': Decimal('0'), 'imagen': '//media.staticontent.com/media/pictures/59a7746b-75a5-4ccf-97f5-88f8d40e9f47/300x200'}, {'categoria': 'Vuelo', 'titulo': 'Vuelos a Santa Marta', 'precio_oferta': Decimal('97165'), 'precio_normal': Decimal('0'), 'imagen': '//media.staticontent.com/media/pictures/dbd97d42-2312-41b4-8097-5ab189c2cbfc/300x200'}, {'categoria': 'Paquete', 'titulo': 'Paquetes a San Andrés', 'precio_oferta': Decimal('1200677'), 'precio_normal': Decimal('1809855'), 'imagen': '//media.staticontent.com/media/pictures/edfd2b87-2d0b-4ace-944d-804f3fb15057/300x200'}, {'categoria': 'Vuelo', 'titulo': 'Vuelos a Cali', 'precio_oferta': Decimal('74660'), 'precio_normal': Decimal('0'), 'imagen': '//media.staticontent.com/media/pictures/29211d41-e73a-4e87-a330-fb647103f137/300x200'}, {'categoria': 'Alojamiento', 'titulo': 'UGO Hotel', 'precio_oferta': Decimal('273984'), 'precio_normal': Decimal('0'), 'imagen': '//media.staticontent.com/media/pictures/a11b893a-1d88-41c9-916d-69706770c7c7/300x200'}, {'categoria': 'Actividad', 'titulo': 'Entradas a Parques Temáticos Disney', 'precio_oferta': Decimal('516283'), 'precio_normal': Decimal('0'), 'imagen': '//media.staticontent.com/media/pictures/a1a798f7-f4ab-4583-b4f2-cc17a5b1fef8/300x200'}, {'categoria': 'Alojamiento', 'titulo': 'Hotel Calypso Beach', 'precio_oferta': Decimal('612886'), 'precio_normal': Decimal('0'), 'imagen': '//media.staticontent.com/media/pictures/310ff2bd-d37d-498e-937e-bca37a310cb7/300x200'}, {'categoria': 'Vuelo', 'titulo': 'Vuelos a Ciudad de México', 'precio_oferta': Decimal('4862622'), 'precio_normal': Decimal('0'), 'imagen': '//media.staticontent.com/media/pictures/2fefbd59-69e7-408a-ac96-8bd806b9f693/300x200'}, {'categoria': 'Vuelo', 'titulo': 'Vuelos a Miami', 'precio_oferta': Decimal('716870'), 'precio_normal': Decimal('0'), 'imagen': '//media.staticontent.com/media/pictures/d2829cc9-46ae-42f8-ae68-d3ee165c7f4e/300x200'}, {'categoria': 'Paquete', 'titulo': 'Paquetes a Santa Marta', 'precio_oferta': Decimal('427063'), 'precio_normal': Decimal('940809'), 'imagen': '//media.staticontent.com/media/pictures/4a43b624-fee8-401d-a74f-4bde6bf58d22/300x200'}, {'categoria': 'Alojamiento', 'titulo': 'Hotel Poblado Plaza', 'precio_oferta': Decimal('350400'), 'precio_normal': Decimal('438000'), 'imagen': '//media.staticontent.com/media/pictures/410ac798-9be4-4a26-92b3-59c97baa0d2d/300x200'}, {'categoria': 'Auto', 'titulo': 'Carros Económicos en Miami', 'precio_oferta': Decimal('180092'), 'precio_normal': Decimal('0'), 'imagen': '//media.staticontent.com/media/pictures/82a8de0f-9bf6-4408-a676-c58bca356a61/300x200'}, {'categoria': 'Auto', 'titulo': 'Autos Económicos en Cartagena de Indias', 'precio_oferta': Decimal('110933'), 'precio_normal': Decimal('0'), 'imagen': '//media.staticontent.com/media/pictures/1c2f2914-2fda-4bde-80de-daff75596434/300x200'}, {'categoria': 'Vuelo', 'titulo': 'Vuelos a Cartagena de Indias', 'precio_oferta': Decimal('82010'), 'precio_normal': Decimal('0'), 'imagen': '//media.staticontent.com/media/pictures/24a1d578-9bd1-4f8d-9a32-1ebcd85cdf9e/300x200'}, {'categoria': 'Alojamiento', 'titulo': 'Hotel Capilla Del Mar', 'precio_oferta': Decimal('392412'), 'precio_normal': Decimal('509626'), 'imagen': '//media.staticontent.com/media/pictures/e10e9950-267c-40bc-b3d9-ea6582b700cf/300x200'}, {'categoria': None, 'titulo': None, 'precio_oferta': Decimal('0'), 'precio_normal': Decimal('0'), 'imagen': None}, {'categoria': None, 'titulo': None, 'precio_oferta': Decimal('0'), 'precio_normal': Decimal('0'), 'imagen': None}, {'categoria': None, 'titulo': None, 'precio_oferta': Decimal('0'), 'precio_normal': Decimal('0'), 'imagen': None}, {'categoria': None, 'titulo': None, 'precio_oferta': Decimal('0'), 'precio_normal': Decimal('0'), 'imagen': None}, {'categoria': None, 'titulo': None, 'precio_oferta': Decimal('0'), 'precio_normal': Decimal('0'), 'imagen': None}, {'categoria': None, 'titulo': None, 'precio_oferta': Decimal('0'), 'precio_normal': Decimal('0'), 'imagen': None}, {'categoria': None, 'titulo': None, 'precio_oferta': Decimal('0'), 'precio_normal': Decimal('0'), 'imagen': None}, {'categoria': None, 'titulo': None, 'precio_oferta': Decimal('0'), 'precio_normal': Decimal('0'), 'imagen': None}, {'categoria': None, 'titulo': None, 'precio_oferta': Decimal('0'), 'precio_normal': Decimal('0'), 'imagen': None}, {'categoria': None, 'titulo': None, 'precio_oferta': Decimal('0'), 'precio_normal': Decimal('0'), 'imagen': None}, {'categoria': None, 'titulo': None, 'precio_oferta': Decimal('0'), 'precio_normal': Decimal('0'), 'imagen': None}, {'categoria': None, 'titulo': None, 'precio_oferta': Decimal('0'), 'precio_normal': Decimal('0'), 'imagen': None}, {'categoria': None, 'titulo': None, 'precio_oferta': Decimal('0'), 'precio_normal': Decimal('0'), 'imagen': None}, {'categoria': None, 'titulo': None, 'precio_oferta': Decimal('0'), 'precio_normal': Decimal('0'), 'imagen': None}, {'categoria': None, 'titulo': None, 'precio_oferta': Decimal('0'), 'precio_normal': Decimal('0'), 'imagen': None}, {'categoria': None, 'titulo': None, 'precio_oferta': Decimal('0'), 'precio_normal': Decimal('0'), 'imagen': None}, {'categoria': None, 'titulo': None, 'precio_oferta': Decimal('0'), 'precio_normal': Decimal('0'), 'imagen': None}, {'categoria': None, 'titulo': None, 'precio_oferta': Decimal('0'), 'precio_normal': Decimal('0'), 'imagen': None}, {'categoria': None, 'titulo': None, 'precio_oferta': Decimal('0'), 'precio_normal': Decimal('0'), 'imagen': None}, {'categoria': None, 'titulo': None, 'precio_oferta': Decimal('0'), 'precio_normal': Decimal('0'), 'imagen': None}, {'categoria': None, 'titulo': None, 'precio_oferta': Decimal('0'), 'precio_normal': Decimal('0'), 'imagen': None}, {'categoria': None, 'titulo': None, 'precio_oferta': Decimal('0'), 'precio_normal': Decimal('0'), 'imagen': None}]\n"
     ]
    }
   ],
   "source": [
    "# convert string to decimal\n",
    "for promocion in promociones_lista:\n",
    "    promocion['precio_oferta'] = Decimal(promocion['precio_oferta'])\n",
    "    promocion['precio_normal'] = Decimal(promocion['precio_normal'])\n",
    "print(promociones_lista)"
   ]
  },
  {
   "cell_type": "code",
   "execution_count": 12,
   "metadata": {},
   "outputs": [
    {
     "name": "stdout",
     "output_type": "stream",
     "text": [
      "      categoria                                   titulo precio_oferta  \\\n",
      "0       Paquete           Paquetes a Cartagena de Indias        311221   \n",
      "1       Paquete                          Paquetes a Cali        364932   \n",
      "2       Paquete                    Paquetes a San Andrés        804606   \n",
      "3       Paquete                        Paquetes a Cancún       2141410   \n",
      "4       Paquete              Paquetes a Ciudad de México       1356213   \n",
      "5       Paquete                        Paquetes a Madrid       2467729   \n",
      "6       Paquete                        Paquetes a Panamá       1056942   \n",
      "7       Paquete                  Paquetes a Buenos Aires       2320414   \n",
      "8         Vuelo                           Vuelo a Madrid       1664160   \n",
      "9         Vuelo                       Panamá + La Habana       2008360   \n",
      "10        Vuelo                           Vuelo a Cancún        866757   \n",
      "11        Vuelo                Vuelo a Santiago de Chile        930708   \n",
      "12        Vuelo                     Vuelo a Barranquilla        144060   \n",
      "13        Vuelo                         Vuelo a Monteria        136590   \n",
      "14        Vuelo                       Vuelo a Nueva York        806450   \n",
      "15        Vuelo                       Vuelo a Punta Cana        871009   \n",
      "16        Vuelo                        Vuelos a Medellín         76737   \n",
      "17        Vuelo             Vuelos a Cartagena de Indias         90121   \n",
      "18        Vuelo                     Vuelos a Santa Marta         97165   \n",
      "19      Paquete                    Paquetes a San Andrés       1200677   \n",
      "20        Vuelo                            Vuelos a Cali         74660   \n",
      "21  Alojamiento                                UGO Hotel        273984   \n",
      "22    Actividad      Entradas a Parques Temáticos Disney        516283   \n",
      "23  Alojamiento                      Hotel Calypso Beach        612886   \n",
      "24        Vuelo                Vuelos a Ciudad de México       4862622   \n",
      "25        Vuelo                           Vuelos a Miami        716870   \n",
      "26      Paquete                   Paquetes a Santa Marta        427063   \n",
      "27  Alojamiento                      Hotel Poblado Plaza        350400   \n",
      "28         Auto               Carros Económicos en Miami        180092   \n",
      "29         Auto  Autos Económicos en Cartagena de Indias        110933   \n",
      "30        Vuelo             Vuelos a Cartagena de Indias         82010   \n",
      "31  Alojamiento                    Hotel Capilla Del Mar        392412   \n",
      "32         None                                     None             0   \n",
      "33         None                                     None             0   \n",
      "34         None                                     None             0   \n",
      "35         None                                     None             0   \n",
      "36         None                                     None             0   \n",
      "37         None                                     None             0   \n",
      "38         None                                     None             0   \n",
      "39         None                                     None             0   \n",
      "40         None                                     None             0   \n",
      "41         None                                     None             0   \n",
      "42         None                                     None             0   \n",
      "43         None                                     None             0   \n",
      "44         None                                     None             0   \n",
      "45         None                                     None             0   \n",
      "46         None                                     None             0   \n",
      "47         None                                     None             0   \n",
      "48         None                                     None             0   \n",
      "49         None                                     None             0   \n",
      "50         None                                     None             0   \n",
      "51         None                                     None             0   \n",
      "52         None                                     None             0   \n",
      "53         None                                     None             0   \n",
      "\n",
      "   precio_normal                                             imagen  \n",
      "0         537687  //media.staticontent.com/media/pictures/6da6da...  \n",
      "1         621978  //media.staticontent.com/media/pictures/a857f0...  \n",
      "2         874273  //media.staticontent.com/media/pictures/1d2f5b...  \n",
      "3        2450024  //media.staticontent.com/media/pictures/f7a9fc...  \n",
      "4        1936761  //media.staticontent.com/media/pictures/76cd20...  \n",
      "5        2606070  //media.staticontent.com/media/pictures/13c152...  \n",
      "6        1260844  //media.staticontent.com/media/pictures/47408b...  \n",
      "7        2990675  //media.staticontent.com/media/pictures/a5b369...  \n",
      "8              0  //media.staticontent.com/media/pictures/811a7b...  \n",
      "9              0  //media.staticontent.com/media/pictures/25e197...  \n",
      "10             0  //media.staticontent.com/media/pictures/1562c5...  \n",
      "11             0  //media.staticontent.com/media/pictures/3a0ad4...  \n",
      "12             0  //media.staticontent.com/media/pictures/031c00...  \n",
      "13             0  //media.staticontent.com/media/pictures/3a5270...  \n",
      "14             0  //media.staticontent.com/media/pictures/aa4c9a...  \n",
      "15             0  //media.staticontent.com/media/pictures/417006...  \n",
      "16             0  //media.staticontent.com/media/pictures/562347...  \n",
      "17             0  //media.staticontent.com/media/pictures/59a774...  \n",
      "18             0  //media.staticontent.com/media/pictures/dbd97d...  \n",
      "19       1809855  //media.staticontent.com/media/pictures/edfd2b...  \n",
      "20             0  //media.staticontent.com/media/pictures/29211d...  \n",
      "21             0  //media.staticontent.com/media/pictures/a11b89...  \n",
      "22             0  //media.staticontent.com/media/pictures/a1a798...  \n",
      "23             0  //media.staticontent.com/media/pictures/310ff2...  \n",
      "24             0  //media.staticontent.com/media/pictures/2fefbd...  \n",
      "25             0  //media.staticontent.com/media/pictures/d2829c...  \n",
      "26        940809  //media.staticontent.com/media/pictures/4a43b6...  \n",
      "27        438000  //media.staticontent.com/media/pictures/410ac7...  \n",
      "28             0  //media.staticontent.com/media/pictures/82a8de...  \n",
      "29             0  //media.staticontent.com/media/pictures/1c2f29...  \n",
      "30             0  //media.staticontent.com/media/pictures/24a1d5...  \n",
      "31        509626  //media.staticontent.com/media/pictures/e10e99...  \n",
      "32             0                                               None  \n",
      "33             0                                               None  \n",
      "34             0                                               None  \n",
      "35             0                                               None  \n",
      "36             0                                               None  \n",
      "37             0                                               None  \n",
      "38             0                                               None  \n",
      "39             0                                               None  \n",
      "40             0                                               None  \n",
      "41             0                                               None  \n",
      "42             0                                               None  \n",
      "43             0                                               None  \n",
      "44             0                                               None  \n",
      "45             0                                               None  \n",
      "46             0                                               None  \n",
      "47             0                                               None  \n",
      "48             0                                               None  \n",
      "49             0                                               None  \n",
      "50             0                                               None  \n",
      "51             0                                               None  \n",
      "52             0                                               None  \n",
      "53             0                                               None  \n"
     ]
    }
   ],
   "source": [
    "# crear un dataframe\n",
    "df = pd.DataFrame(promociones_lista)\n",
    "df.columns = ['categoria', 'titulo', 'precio_oferta', 'precio_normal', 'imagen']\n",
    "df.to_csv('promociones.csv', index=False, encoding='utf-8-sig')\n",
    "print(df)\n",
    "\n"
   ]
  }
 ],
 "metadata": {
  "interpreter": {
   "hash": "6c3ed7ee24fab0329143935c7a8d1152471eb3ca2f0e5c54769f25c716a07dbd"
  },
  "kernelspec": {
   "display_name": "Python 3.8.12 64-bit ('scraping': conda)",
   "language": "python",
   "name": "python3"
  },
  "language_info": {
   "codemirror_mode": {
    "name": "ipython",
    "version": 3
   },
   "file_extension": ".py",
   "mimetype": "text/x-python",
   "name": "python",
   "nbconvert_exporter": "python",
   "pygments_lexer": "ipython3",
   "version": "3.8.12"
  },
  "orig_nbformat": 4
 },
 "nbformat": 4,
 "nbformat_minor": 2
}

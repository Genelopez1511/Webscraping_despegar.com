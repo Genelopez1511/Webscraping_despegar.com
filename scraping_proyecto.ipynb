{
 "cells": [
  {
   "cell_type": "code",
   "execution_count": 2,
   "metadata": {},
   "outputs": [],
   "source": [
    "from bs4 import BeautifulSoup\n",
    "from selenium import webdriver # módulo que contiene implementaciones de controladores de navegadores web\n",
    "from webdriver_manager.chrome import ChromeDriverManager # controlador de Chrome  \n",
    "from selenium.webdriver.support import expected_conditions as EC # método para escribir códigos que esperan hasta que ciertas condiciones sean cumplidas\n",
    "from selenium.webdriver.support.ui import WebDriverWait # método para escribir códigos que utilizan esperas implícitas o explícitas\n",
    "from selenium.webdriver.common.by import By # método para localizar elementos por sus atributos HTML\n",
    "from selenium.webdriver import ActionChains # módulo para implementar interacciones con el navegador from selenium import webdriver\n",
    "from selenium.webdriver.chrome.options import Options\n",
    "from moneyed import Money\n",
    "from pandas import DataFrame \n",
    "import pandas as pd\n"
   ]
  },
  {
   "cell_type": "code",
   "execution_count": 3,
   "metadata": {},
   "outputs": [],
   "source": [
    "chrome_options = Options()\n",
    "chrome_options.add_argument('--headless')\n",
    "chrome_options.add_argument('--no-sandbox')\n",
    "chrome_options.add_argument('--disable-dev-shm-usage')\n",
    "#d = webdriver.Chrome('your-chrome-driver-path',chrome_options=chrome_options)"
   ]
  },
  {
   "cell_type": "code",
   "execution_count": 4,
   "metadata": {},
   "outputs": [
    {
     "name": "stderr",
     "output_type": "stream",
     "text": [
      "[WDM] - Current google-chrome version is 97.0.4692\n",
      "[WDM] - Get LATEST driver version for 97.0.4692\n",
      "[WDM] - Driver [/home/genesis/.wdm/drivers/chromedriver/linux64/97.0.4692.71/chromedriver] found in cache\n"
     ]
    },
    {
     "name": "stdout",
     "output_type": "stream",
     "text": [
      " \n"
     ]
    }
   ],
   "source": [
    "# Inicializa la página web en el navegador Chrome\n",
    "driver = webdriver.Chrome(ChromeDriverManager().install(),chrome_options=chrome_options)\n",
    "url = 'https://www.despegar.com.co/'\n",
    "driver.get(url) # aca le pido al webdriver que me traiga la pagina que le solicite en url"
   ]
  },
  {
   "cell_type": "code",
   "execution_count": 5,
   "metadata": {},
   "outputs": [
    {
     "name": "stdout",
     "output_type": "stream",
     "text": [
      "https://www.despegar.com.co/\n"
     ]
    }
   ],
   "source": [
    "elemento_oferta = '.shifu-3-header .header-corners-container .header-product-item .shifu-3-button-circle.OFFERS'\n",
    "delay = 10\n",
    "try:\n",
    "    element_present = EC.presence_of_element_located((By.CSS_SELECTOR, elemento_oferta))\n",
    "    WebDriverWait(driver, delay).until(element_present)\n",
    "except TimeoutError:\n",
    "    print('Timed out waiting for page to load')\n",
    "print(driver.current_url)\n"
   ]
  },
  {
   "cell_type": "code",
   "execution_count": 6,
   "metadata": {},
   "outputs": [
    {
     "name": "stdout",
     "output_type": "stream",
     "text": [
      "https://www.despegar.com.co/ofertas-de-viajes\n"
     ]
    }
   ],
   "source": [
    "element1 = driver.find_element_by_css_selector(elemento_oferta)\n",
    "ActionChains(driver).click(element1).perform()\n",
    "print(driver.current_url)"
   ]
  },
  {
   "cell_type": "code",
   "execution_count": 7,
   "metadata": {},
   "outputs": [],
   "source": [
    "soup = BeautifulSoup(driver.page_source, 'html.parser')\n",
    "driver.quit()\n"
   ]
  },
  {
   "cell_type": "code",
   "execution_count": 8,
   "metadata": {},
   "outputs": [],
   "source": [
    "etiqueta_promociones = soup.select('slider-item')  # selecciona todos los elementos que tienen la clase slider-item"
   ]
  },
  {
   "cell_type": "code",
   "execution_count": 9,
   "metadata": {},
   "outputs": [],
   "source": [
    "def chequear_nulo(etiqueta):\n",
    "    if etiqueta is not None:\n",
    "        return etiqueta.text\n",
    "  \n",
    "\n",
    "def chequear_imagen(etiqueta):\n",
    "    if etiqueta is not None:\n",
    "        return etiqueta['src']\n",
    "\n",
    "for etiqueta in etiqueta_promociones:\n",
    "    titulo = etiqueta.select_one('.offer-card-title.small-title ')\n",
    "    if titulo == None:\n",
    "        continue\n",
    "    imagen = etiqueta.select_one('.offer-card-image .offer-card-image-main')\n",
    "    categoria = etiqueta.select_one('.offer-card-product')\n",
    "    precio_oferta = etiqueta.select_one('.offer-card-pricebox-price-amount ')\n",
    "    precio_normal = etiqueta.select_one('.offer-card-pricebox-price .offer-card-pricebox-price-old')\n",
    "    # print(chequear_nulo(titulo),chequear_imagen(imagen),chequear_nulo(categoria),chequear_nulo(precio_oferta),chequear_nulo(precio_normal), end='\\n')\n",
    "\n",
    "   "
   ]
  },
  {
   "cell_type": "code",
   "execution_count": 10,
   "metadata": {},
   "outputs": [
    {
     "name": "stdout",
     "output_type": "stream",
     "text": [
      "[{'categoria': 'Paquete', 'titulo': 'Paquetes a Cartagena de Indias', 'precio_oferta': '322.740', 'precio_normal': ' $530.060 ', 'imagen': '//media.staticontent.com/media/pictures/1d51a0f8-99f8-4c68-9e92-f7ea744437ea/300x200'}, {'categoria': 'Paquete', 'titulo': 'Paquetes a Cali', 'precio_oferta': '364.000', 'precio_normal': ' $617.200 ', 'imagen': '//media.staticontent.com/media/pictures/a857f04c-3a2a-4201-93da-864454c20815/300x200'}, {'categoria': 'Paquete', 'titulo': 'Paquetes a San Andrés', 'precio_oferta': '960.498', 'precio_normal': ' $1.607.971 ', 'imagen': '//media.staticontent.com/media/pictures/517b832f-0640-4db1-922d-360494e1e3f8/300x200'}, {'categoria': 'Paquete', 'titulo': 'Paquetes a Cancún', 'precio_oferta': '2.195.791', 'precio_normal': ' $2.513.889 ', 'imagen': '//media.staticontent.com/media/pictures/5027b2a8-c69e-4892-8de6-6b2972a96712/300x200'}, {'categoria': 'Paquete', 'titulo': 'Paquetes a Ciudad de México', 'precio_oferta': '1.345.467', 'precio_normal': ' $1.509.037 ', 'imagen': '//media.staticontent.com/media/pictures/7572f62a-8b89-4cfa-9bd5-a8b0e9f90a25/300x200'}, {'categoria': 'Paquete', 'titulo': 'Paquetes a Nueva York', 'precio_oferta': '2.877.775', 'precio_normal': ' $4.717.375 ', 'imagen': '//media.staticontent.com/media/pictures/953cd767-dd81-4f18-8363-5420de39c9c8/300x200'}, {'categoria': 'Paquete', 'titulo': 'Paquetes a Panamá', 'precio_oferta': '1.083.855', 'precio_normal': ' $1.290.032 ', 'imagen': '//media.staticontent.com/media/pictures/47408bb2-90b3-41f7-aa07-7514c25f7480/300x200'}, {'categoria': 'Paquete', 'titulo': 'Paquetes a Buenos Aires', 'precio_oferta': '2.808.766', 'precio_normal': ' $3.937.780 ', 'imagen': '//media.staticontent.com/media/pictures/74f1c577-1bff-485b-a32c-7497dcf1018b/300x200'}, {'categoria': 'Vuelo', 'titulo': 'Vuelo a Madrid', 'precio_oferta': '1.859.614', 'precio_normal': None, 'imagen': '//media.staticontent.com/media/pictures/388f1ef4-d38e-4616-afd3-96add531e7b4/300x200'}, {'categoria': 'Vuelo', 'titulo': 'París + Estambul', 'precio_oferta': '3.993.390', 'precio_normal': None, 'imagen': '//media.staticontent.com/media/pictures/ed2b23d8-8ba0-4395-abb4-19a9a27d4a93/300x200'}, {'categoria': 'Vuelo', 'titulo': 'Vuelo a Santa Marta', 'precio_oferta': '177.330', 'precio_normal': None, 'imagen': '//media.staticontent.com/media/pictures/8ec93945-c414-4827-a5ed-cafdd727920c/300x200'}, {'categoria': 'Vuelo', 'titulo': 'Panamá + Asunción', 'precio_oferta': '1.268.060', 'precio_normal': None, 'imagen': '//media.staticontent.com/media/pictures/caaa7ee8-5b33-453c-89ac-b62bcbf9d5b9/300x200'}, {'categoria': 'Vuelo', 'titulo': 'Vuelo a Cartagena de Indias', 'precio_oferta': '171.820', 'precio_normal': None, 'imagen': '//media.staticontent.com/media/pictures/53d225ab-e0e8-4f60-b65b-29b43c71f07e/300x200'}, {'categoria': 'Vuelo', 'titulo': 'Vuelo a Cancún', 'precio_oferta': '865.329', 'precio_normal': None, 'imagen': '//media.staticontent.com/media/pictures/3b68531f-db61-4646-8c20-a922a760fcf4/300x200'}, {'categoria': 'Vuelo', 'titulo': 'Vuelo a San Andrés', 'precio_oferta': '185.006', 'precio_normal': None, 'imagen': '//media.staticontent.com/media/pictures/0111b261-1248-45eb-9a7e-0c8ad9c123e1/300x200'}, {'categoria': 'Vuelo', 'titulo': 'Vuelo a Miami', 'precio_oferta': '728.350', 'precio_normal': None, 'imagen': '//media.staticontent.com/media/pictures/d2829cc9-46ae-42f8-ae68-d3ee165c7f4e/300x200'}, {'categoria': 'Vuelo', 'titulo': 'Vuelos a Medellín', 'precio_oferta': '76.737', 'precio_normal': None, 'imagen': '//media.staticontent.com/media/pictures/33fbe886-3d79-4258-a3d6-7defdce40c63/300x200'}, {'categoria': 'Vuelo', 'titulo': 'Vuelos a Cartagena de Indias', 'precio_oferta': '100.737', 'precio_normal': None, 'imagen': '//media.staticontent.com/media/pictures/bb6844e4-d4be-4f0f-b268-7667d874db48/300x200'}, {'categoria': 'Vuelo', 'titulo': 'Vuelos a Santa Marta', 'precio_oferta': '97.165', 'precio_normal': None, 'imagen': '//media.staticontent.com/media/pictures/01f66394-73cc-40a7-a065-ecc06b3bc9c5/300x200'}, {'categoria': 'Paquete', 'titulo': 'Paquetes a San Andrés', 'precio_oferta': '870.535', 'precio_normal': ' $1.319.386 ', 'imagen': '//media.staticontent.com/media/pictures/5cc13b62-c0dc-4143-b3e0-a895752c280e/300x200'}, {'categoria': 'Vuelo', 'titulo': 'Vuelos a Cali', 'precio_oferta': '74.660', 'precio_normal': None, 'imagen': '//media.staticontent.com/media/pictures/eab748d7-ba22-4a46-b6b3-4b006be69462/300x200'}, {'categoria': 'Alojamiento', 'titulo': 'UGO Hotel', 'precio_oferta': '282.764', 'precio_normal': None, 'imagen': '//media.staticontent.com/media/pictures/a11b893a-1d88-41c9-916d-69706770c7c7/300x200'}, {'categoria': 'Actividad', 'titulo': 'Entradas a Parques Temáticos Disney', 'precio_oferta': '532.828', 'precio_normal': None, 'imagen': '//media.staticontent.com/media/pictures/a1a798f7-f4ab-4583-b4f2-cc17a5b1fef8/300x200'}, {'categoria': 'Alojamiento', 'titulo': 'Hotel Calypso Beach', 'precio_oferta': '620.374', 'precio_normal': None, 'imagen': '//media.staticontent.com/media/pictures/310ff2bd-d37d-498e-937e-bca37a310cb7/300x200'}, {'categoria': 'Vuelo', 'titulo': 'Vuelos a Ciudad de México', 'precio_oferta': '3.138.550', 'precio_normal': None, 'imagen': '//media.staticontent.com/media/pictures/630af258-ac97-4591-bbec-689b81a975e5/300x200'}, {'categoria': 'Vuelo', 'titulo': 'Vuelos a Miami', 'precio_oferta': '728.350', 'precio_normal': None, 'imagen': '//media.staticontent.com/media/pictures/28c2fe61-6472-4ca5-abb3-8edc8dd754f7/300x200'}, {'categoria': 'Paquete', 'titulo': 'Paquetes a Santa Marta', 'precio_oferta': '427.063', 'precio_normal': ' $940.720 ', 'imagen': '//media.staticontent.com/media/pictures/e07ddb13-7b21-44c3-a003-d9444d3b4c89/300x200'}, {'categoria': 'Alojamiento', 'titulo': 'Hotel Poblado Plaza', 'precio_oferta': '350.400', 'precio_normal': ' $438.000 ', 'imagen': '//media.staticontent.com/media/pictures/410ac798-9be4-4a26-92b3-59c97baa0d2d/300x200'}, {'categoria': 'Auto', 'titulo': 'Aeropuerto Internacional Miami', 'precio_oferta': '149.225', 'precio_normal': None, 'imagen': '//media.staticontent.com/media/pictures/5769cfcb-13f3-45b2-806a-f484a4146305/300x200'}, {'categoria': 'Auto', 'titulo': 'Bogotá', 'precio_oferta': '96.487', 'precio_normal': None, 'imagen': '//media.staticontent.com/media/pictures/d6aed0fe-1383-4367-95ad-71fa80a84536/300x200'}, {'categoria': 'Vuelo', 'titulo': 'Vuelos a Cartagena de Indias', 'precio_oferta': '82.010', 'precio_normal': None, 'imagen': '//media.staticontent.com/media/pictures/6b4d7593-f154-4c1c-a0b8-5aefdcca9b23/300x200'}, {'categoria': 'Alojamiento', 'titulo': 'Hotel Capilla Del Mar', 'precio_oferta': '392.412', 'precio_normal': ' $509.626 ', 'imagen': '//media.staticontent.com/media/pictures/e10e9950-267c-40bc-b3d9-ea6582b700cf/300x200'}, {'categoria': None, 'titulo': None, 'precio_oferta': None, 'precio_normal': None, 'imagen': None}, {'categoria': None, 'titulo': None, 'precio_oferta': None, 'precio_normal': None, 'imagen': None}, {'categoria': None, 'titulo': None, 'precio_oferta': None, 'precio_normal': None, 'imagen': None}, {'categoria': None, 'titulo': None, 'precio_oferta': None, 'precio_normal': None, 'imagen': None}, {'categoria': None, 'titulo': None, 'precio_oferta': None, 'precio_normal': None, 'imagen': None}, {'categoria': None, 'titulo': None, 'precio_oferta': None, 'precio_normal': None, 'imagen': None}, {'categoria': None, 'titulo': None, 'precio_oferta': None, 'precio_normal': None, 'imagen': None}, {'categoria': None, 'titulo': None, 'precio_oferta': None, 'precio_normal': None, 'imagen': None}, {'categoria': None, 'titulo': None, 'precio_oferta': None, 'precio_normal': None, 'imagen': None}, {'categoria': None, 'titulo': None, 'precio_oferta': None, 'precio_normal': None, 'imagen': None}, {'categoria': None, 'titulo': None, 'precio_oferta': None, 'precio_normal': None, 'imagen': None}, {'categoria': None, 'titulo': None, 'precio_oferta': None, 'precio_normal': None, 'imagen': None}, {'categoria': None, 'titulo': None, 'precio_oferta': None, 'precio_normal': None, 'imagen': None}, {'categoria': None, 'titulo': None, 'precio_oferta': None, 'precio_normal': None, 'imagen': None}, {'categoria': None, 'titulo': None, 'precio_oferta': None, 'precio_normal': None, 'imagen': None}, {'categoria': None, 'titulo': None, 'precio_oferta': None, 'precio_normal': None, 'imagen': None}, {'categoria': None, 'titulo': None, 'precio_oferta': None, 'precio_normal': None, 'imagen': None}, {'categoria': None, 'titulo': None, 'precio_oferta': None, 'precio_normal': None, 'imagen': None}, {'categoria': None, 'titulo': None, 'precio_oferta': None, 'precio_normal': None, 'imagen': None}, {'categoria': None, 'titulo': None, 'precio_oferta': None, 'precio_normal': None, 'imagen': None}, {'categoria': None, 'titulo': None, 'precio_oferta': None, 'precio_normal': None, 'imagen': None}, {'categoria': None, 'titulo': None, 'precio_oferta': None, 'precio_normal': None, 'imagen': None}]\n"
     ]
    }
   ],
   "source": [
    "\n",
    "\n",
    "# crear una lista de diccionarios\n",
    "promociones_lista = []\n",
    "promociones = {}\n",
    "for etiqueta in etiqueta_promociones:\n",
    "    try:\n",
    "        promociones['categoria'] = chequear_nulo(etiqueta.select_one('.offer-card-product'))\n",
    "        promociones['titulo'] = chequear_nulo(etiqueta.select_one('.offer-card-title.small-title'))\n",
    "        promociones['precio_oferta'] = chequear_nulo(etiqueta.select_one('.offer-card-pricebox-price-amount'))\n",
    "        promociones['precio_normal'] = chequear_nulo(etiqueta.select_one('.offer-card-pricebox-price .offer-card-pricebox-price-old'))\n",
    "        promociones['imagen'] = chequear_imagen(etiqueta.select_one('.offer-card-image .offer-card-image-main'))\n",
    "    except:\n",
    "        continue\n",
    "    promociones_lista.append(promociones.copy())\n",
    "print(promociones_lista)\n"
   ]
  },
  {
   "cell_type": "code",
   "execution_count": 11,
   "metadata": {},
   "outputs": [],
   "source": [
    "# crear un dataframe\n",
    "df = pd.DataFrame(promociones_lista)\n",
    "df.columns = ['categoria', 'titulo', 'precio_oferta', 'precio_normal', 'imagen']\n",
    "df.to_csv('promociones.csv', index=False, encoding='utf-8-sig')\n",
    "# print(df)"
   ]
  }
 ],
 "metadata": {
  "interpreter": {
   "hash": "6c3ed7ee24fab0329143935c7a8d1152471eb3ca2f0e5c54769f25c716a07dbd"
  },
  "kernelspec": {
   "display_name": "Python 3.8.12 64-bit ('scraping': conda)",
   "language": "python",
   "name": "python3"
  },
  "language_info": {
   "codemirror_mode": {
    "name": "ipython",
    "version": 3
   },
   "file_extension": ".py",
   "mimetype": "text/x-python",
   "name": "python",
   "nbconvert_exporter": "python",
   "pygments_lexer": "ipython3",
   "version": "3.8.12"
  },
  "orig_nbformat": 4
 },
 "nbformat": 4,
 "nbformat_minor": 2
}

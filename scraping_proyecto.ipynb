{
 "cells": [
  {
   "cell_type": "code",
   "execution_count": 65,
   "metadata": {},
   "outputs": [],
   "source": [
    "from bs4 import BeautifulSoup\n",
    "from selenium import webdriver # módulo que contiene implementaciones de controladores de navegadores web\n",
    "from webdriver_manager.chrome import ChromeDriverManager # controlador de Chrome  \n",
    "from selenium.webdriver.support import expected_conditions as EC # método para escribir códigos que esperan hasta que ciertas condiciones sean cumplidas\n",
    "from selenium.webdriver.support.ui import WebDriverWait # método para escribir códigos que utilizan esperas implícitas o explícitas\n",
    "from selenium.webdriver.common.by import By # método para localizar elementos por sus atributos HTML\n",
    "from selenium.webdriver import ActionChains # módulo para implementar interacciones con el navegador from selenium import webdriver\n",
    "from selenium.webdriver.chrome.options import Options\n",
    "from decimal import Decimal\n",
    "from pandas import DataFrame \n",
    "import pandas as pd\n",
    "import numpy as np\n"
   ]
  },
  {
   "cell_type": "code",
   "execution_count": 66,
   "metadata": {},
   "outputs": [],
   "source": [
    "chrome_options = Options()\n",
    "chrome_options.add_argument('--headless')\n",
    "chrome_options.add_argument('--no-sandbox')\n",
    "chrome_options.add_argument('--disable-dev-shm-usage')\n",
    "#d = webdriver.Chrome('your-chrome-driver-path',chrome_options=chrome_options)"
   ]
  },
  {
   "cell_type": "code",
   "execution_count": 67,
   "metadata": {},
   "outputs": [
    {
     "name": "stderr",
     "output_type": "stream",
     "text": [
      "[WDM] - Current google-chrome version is 97.0.4692\n",
      "[WDM] - Get LATEST driver version for 97.0.4692\n"
     ]
    },
    {
     "name": "stdout",
     "output_type": "stream",
     "text": [
      " \n"
     ]
    },
    {
     "name": "stderr",
     "output_type": "stream",
     "text": [
      "[WDM] - Driver [/home/genesis/.wdm/drivers/chromedriver/linux64/97.0.4692.71/chromedriver] found in cache\n"
     ]
    }
   ],
   "source": [
    "# Inicializa la página web en el navegador Chrome\n",
    "driver = webdriver.Chrome(ChromeDriverManager().install(),chrome_options=chrome_options)\n",
    "url = 'https://www.despegar.com.co/'\n",
    "driver.get(url) # aca le pido al webdriver que me traiga la pagina que le solicite en url"
   ]
  },
  {
   "cell_type": "code",
   "execution_count": 68,
   "metadata": {},
   "outputs": [
    {
     "name": "stdout",
     "output_type": "stream",
     "text": [
      "https://www.despegar.com.co/\n"
     ]
    }
   ],
   "source": [
    "elemento_oferta = '.shifu-3-header .header-corners-container .header-product-item .shifu-3-button-circle.OFFERS'\n",
    "delay = 10\n",
    "try:\n",
    "    element_present = EC.presence_of_element_located((By.CSS_SELECTOR, elemento_oferta))\n",
    "    WebDriverWait(driver, delay).until(element_present)\n",
    "except TimeoutError:\n",
    "    print('Timed out waiting for page to load')\n",
    "print(driver.current_url)\n"
   ]
  },
  {
   "cell_type": "code",
   "execution_count": 69,
   "metadata": {},
   "outputs": [
    {
     "name": "stdout",
     "output_type": "stream",
     "text": [
      "https://www.despegar.com.co/ofertas-de-viajes\n"
     ]
    }
   ],
   "source": [
    "element1 = driver.find_element_by_css_selector(elemento_oferta)\n",
    "ActionChains(driver).click(element1).perform()\n",
    "print(driver.current_url)"
   ]
  },
  {
   "cell_type": "code",
   "execution_count": 70,
   "metadata": {},
   "outputs": [],
   "source": [
    "soup = BeautifulSoup(driver.page_source, 'html.parser')\n",
    "driver.quit()\n"
   ]
  },
  {
   "cell_type": "code",
   "execution_count": 71,
   "metadata": {},
   "outputs": [],
   "source": [
    "etiqueta_promociones = soup.select('slider-item')  # selecciona todos los elementos que tienen la clase slider-item"
   ]
  },
  {
   "cell_type": "code",
   "execution_count": 72,
   "metadata": {},
   "outputs": [
    {
     "name": "stdout",
     "output_type": "stream",
     "text": [
      "Paquetes a Cartagena de Indias //media.staticontent.com/media/pictures/1d51a0f8-99f8-4c68-9e92-f7ea744437ea/300x200 Paquete 375.065  $408.772 \n",
      "Paquetes a Cali //media.staticontent.com/media/pictures/45486b4c-3442-4da3-9e03-a0a154197b23/300x200 Paquete 412.876  $456.593 \n",
      "Paquetes a San Andrés //media.staticontent.com/media/pictures/24988134-97e6-428a-8e49-527fd4075157/300x200 Paquete 941.004  $1.602.844 \n",
      "Paquetes a Punta Cana //media.staticontent.com/media/pictures/e1a4d803-9b00-42ea-b901-0a8b7fca3917/300x200 Paquete 2.112.665  $2.473.671 \n",
      "Paquetes a Ciudad de México //media.staticontent.com/media/pictures/2fefbd59-69e7-408a-ac96-8bd806b9f693/300x200 Paquete 1.321.923  $1.503.321 \n",
      "Paquetes a Madrid //media.staticontent.com/media/pictures/3bfb4f98-cd6f-4e61-bab6-d8acbf0feb24/300x200 Paquete 2.503.271  $2.648.771 \n",
      "Paquetes a Panamá //media.staticontent.com/media/pictures/b269216a-22ec-4e51-b1a7-f5827873a158/300x200 Paquete 1.068.056  $1.266.953 \n",
      "Paquetes a Buenos Aires //media.staticontent.com/media/pictures/e3e81663-9725-434b-9d52-e924dab0345a/300x200 Paquete 2.173.782  $2.717.233 \n",
      "Vuelo a Cancún //media.staticontent.com/media/pictures/275da639-35f9-40f9-b791-6d04f8d0b122/300x200 Vuelo 866.757 None\n",
      "París + Estambul //media.staticontent.com/media/pictures/e6c62747-49eb-4f41-aece-4311fa4fe1e0/300x200 Vuelo 2.685.140 None\n",
      "Vuelo a Santiago de Chile //media.staticontent.com/media/pictures/8723334b-ed49-4f2d-be98-b4922e0a476c/300x200 Vuelo 930.708 None\n",
      "Vuelo a Monteria //media.staticontent.com/media/pictures/cedcf569-3bcd-413d-9ab1-56550c64d231/300x200 Vuelo 136.590 None\n",
      "Vuelo a Buenos Aires //media.staticontent.com/media/pictures/11699700-cd97-4f9e-b5cb-828c5092efdf/300x200 Vuelo 1.638.164 None\n",
      "Vuelo a Barranquilla //media.staticontent.com/media/pictures/c9ac5751-d976-40ad-8c73-7b98309c0e24/300x200 Vuelo 144.060 None\n",
      "Vuelo a Guarullos //media.staticontent.com/media/pictures/082eb11c-b3f9-4967-997e-40d7c80b3061/300x200 Vuelo 1.064.460 None\n",
      "Vuelo a Nueva York //media.staticontent.com/media/pictures/a125991e-3c03-4958-a6a5-27dbb6cc4062/300x200 Vuelo 838.940 None\n",
      "Vuelos a Medellín //media.staticontent.com/media/pictures/56234749-08bf-4c05-a2de-617ce8941972/300x200 Vuelo 76.737 None\n",
      "Vuelos a Cartagena de Indias //media.staticontent.com/media/pictures/7465e77a-1f66-402d-82ee-a4e4eb1548d2/300x200 Vuelo 90.121 None\n",
      "Vuelos a Santa Marta //media.staticontent.com/media/pictures/8104e5a0-add2-4d32-9830-6c01444f000d/300x200 Vuelo 97.165 None\n",
      "Paquetes a San Andrés //media.staticontent.com/media/pictures/355716c8-378d-46d5-bcb5-fe5dba23e837/300x200 Paquete 1.101.961  $1.700.421 \n",
      "Vuelos a Cali //media.staticontent.com/media/pictures/d82b6f14-bd0d-4ec0-bf01-c4bff1e4b75b/300x200 Vuelo 74.660 None\n",
      "UGO Hotel //media.staticontent.com/media/pictures/a11b893a-1d88-41c9-916d-69706770c7c7/300x200 Alojamiento 273.984 None\n",
      "Entradas a Parques Temáticos Disney //media.staticontent.com/media/pictures/a1a798f7-f4ab-4583-b4f2-cc17a5b1fef8/300x200 Actividad 516.283 None\n",
      "Hotel Calypso Beach //media.staticontent.com/media/pictures/310ff2bd-d37d-498e-937e-bca37a310cb7/300x200 Alojamiento 613.786 None\n",
      "Vuelos a Miami //media.staticontent.com/media/pictures/0e58a86e-1bde-45e3-bf45-7146fb50af16/300x200 Vuelo 716.870 None\n",
      "Paquetes a Santa Marta //media.staticontent.com/media/pictures/01f66394-73cc-40a7-a065-ecc06b3bc9c5/300x200 Paquete 427.063  $940.802 \n",
      "Hotel Poblado Plaza //media.staticontent.com/media/pictures/410ac798-9be4-4a26-92b3-59c97baa0d2d/300x200 Alojamiento 350.400  $438.000 \n",
      "Aeropuerto Internacional Miami //media.staticontent.com/media/pictures/5769cfcb-13f3-45b2-806a-f484a4146305/300x200 Auto 144.592 None\n",
      "Bogotá //media.staticontent.com/media/pictures/df81fb5c-e63f-4375-8d57-eec21fac8d24/300x200 Auto 96.487 None\n",
      "Vuelos a Cartagena de Indias //media.staticontent.com/media/pictures/6b25df5b-55d0-482d-8008-fcba968e8a3e/300x200 Vuelo 82.010 None\n",
      "Hotel Capilla Del Mar //media.staticontent.com/media/pictures/e10e9950-267c-40bc-b3d9-ea6582b700cf/300x200 Alojamiento 392.412  $509.626 \n"
     ]
    }
   ],
   "source": [
    "def chequear_nulo(etiqueta):\n",
    "    if etiqueta is not None:\n",
    "        return str(etiqueta.text)\n",
    "  \n",
    "\n",
    "def chequear_imagen(etiqueta):\n",
    "    if etiqueta is not None:\n",
    "        return etiqueta['src']\n",
    "\n",
    "for etiqueta in etiqueta_promociones:\n",
    "    titulo = etiqueta.select_one('.offer-card-title.small-title ')\n",
    "    if titulo == None:\n",
    "        continue\n",
    "    imagen = etiqueta.select_one('.offer-card-image .offer-card-image-main')\n",
    "    categoria = etiqueta.select_one('.offer-card-product')\n",
    "    precio_oferta = etiqueta.select_one('.offer-card-pricebox-price-amount ')\n",
    "    precio_normal = etiqueta.select_one('.offer-card-pricebox-price .offer-card-pricebox-price-old')\n",
    "    print(chequear_nulo(titulo),chequear_imagen(imagen),chequear_nulo(categoria),chequear_nulo(precio_oferta),chequear_nulo(precio_normal), end='\\n')\n",
    "\n",
    "   "
   ]
  },
  {
   "cell_type": "code",
   "execution_count": 77,
   "metadata": {},
   "outputs": [
    {
     "name": "stdout",
     "output_type": "stream",
     "text": [
      "[{'categoria': 'Paquete', 'titulo': 'Paquetes a Cartagena de Indias', 'precio_oferta': '375065', 'precio_normal': ' 408772 ', 'imagen': '//media.staticontent.com/media/pictures/1d51a0f8-99f8-4c68-9e92-f7ea744437ea/300x200'}, {'categoria': 'Paquete', 'titulo': 'Paquetes a Cali', 'precio_oferta': '412876', 'precio_normal': ' 456593 ', 'imagen': '//media.staticontent.com/media/pictures/45486b4c-3442-4da3-9e03-a0a154197b23/300x200'}, {'categoria': 'Paquete', 'titulo': 'Paquetes a San Andrés', 'precio_oferta': '941004', 'precio_normal': ' 1602844 ', 'imagen': '//media.staticontent.com/media/pictures/24988134-97e6-428a-8e49-527fd4075157/300x200'}, {'categoria': 'Paquete', 'titulo': 'Paquetes a Punta Cana', 'precio_oferta': '2112665', 'precio_normal': ' 2473671 ', 'imagen': '//media.staticontent.com/media/pictures/e1a4d803-9b00-42ea-b901-0a8b7fca3917/300x200'}, {'categoria': 'Paquete', 'titulo': 'Paquetes a Ciudad de México', 'precio_oferta': '1321923', 'precio_normal': ' 1503321 ', 'imagen': '//media.staticontent.com/media/pictures/2fefbd59-69e7-408a-ac96-8bd806b9f693/300x200'}, {'categoria': 'Paquete', 'titulo': 'Paquetes a Madrid', 'precio_oferta': '2503271', 'precio_normal': ' 2648771 ', 'imagen': '//media.staticontent.com/media/pictures/3bfb4f98-cd6f-4e61-bab6-d8acbf0feb24/300x200'}, {'categoria': 'Paquete', 'titulo': 'Paquetes a Panamá', 'precio_oferta': '1068056', 'precio_normal': ' 1266953 ', 'imagen': '//media.staticontent.com/media/pictures/b269216a-22ec-4e51-b1a7-f5827873a158/300x200'}, {'categoria': 'Paquete', 'titulo': 'Paquetes a Buenos Aires', 'precio_oferta': '2173782', 'precio_normal': ' 2717233 ', 'imagen': '//media.staticontent.com/media/pictures/e3e81663-9725-434b-9d52-e924dab0345a/300x200'}, {'categoria': 'Vuelo', 'titulo': 'Vuelo a Cancún', 'precio_oferta': '866757', 'precio_normal': 0, 'imagen': '//media.staticontent.com/media/pictures/275da639-35f9-40f9-b791-6d04f8d0b122/300x200'}, {'categoria': 'Vuelo', 'titulo': 'París + Estambul', 'precio_oferta': '2685140', 'precio_normal': 0, 'imagen': '//media.staticontent.com/media/pictures/e6c62747-49eb-4f41-aece-4311fa4fe1e0/300x200'}, {'categoria': 'Vuelo', 'titulo': 'Vuelo a Santiago de Chile', 'precio_oferta': '930708', 'precio_normal': 0, 'imagen': '//media.staticontent.com/media/pictures/8723334b-ed49-4f2d-be98-b4922e0a476c/300x200'}, {'categoria': 'Vuelo', 'titulo': 'Vuelo a Monteria', 'precio_oferta': '136590', 'precio_normal': 0, 'imagen': '//media.staticontent.com/media/pictures/cedcf569-3bcd-413d-9ab1-56550c64d231/300x200'}, {'categoria': 'Vuelo', 'titulo': 'Vuelo a Buenos Aires', 'precio_oferta': '1638164', 'precio_normal': 0, 'imagen': '//media.staticontent.com/media/pictures/11699700-cd97-4f9e-b5cb-828c5092efdf/300x200'}, {'categoria': 'Vuelo', 'titulo': 'Vuelo a Barranquilla', 'precio_oferta': '144060', 'precio_normal': 0, 'imagen': '//media.staticontent.com/media/pictures/c9ac5751-d976-40ad-8c73-7b98309c0e24/300x200'}, {'categoria': 'Vuelo', 'titulo': 'Vuelo a Guarullos', 'precio_oferta': '1064460', 'precio_normal': 0, 'imagen': '//media.staticontent.com/media/pictures/082eb11c-b3f9-4967-997e-40d7c80b3061/300x200'}, {'categoria': 'Vuelo', 'titulo': 'Vuelo a Nueva York', 'precio_oferta': '838940', 'precio_normal': 0, 'imagen': '//media.staticontent.com/media/pictures/a125991e-3c03-4958-a6a5-27dbb6cc4062/300x200'}, {'categoria': 'Vuelo', 'titulo': 'Vuelos a Medellín', 'precio_oferta': '76737', 'precio_normal': 0, 'imagen': '//media.staticontent.com/media/pictures/56234749-08bf-4c05-a2de-617ce8941972/300x200'}, {'categoria': 'Vuelo', 'titulo': 'Vuelos a Cartagena de Indias', 'precio_oferta': '90121', 'precio_normal': 0, 'imagen': '//media.staticontent.com/media/pictures/7465e77a-1f66-402d-82ee-a4e4eb1548d2/300x200'}, {'categoria': 'Vuelo', 'titulo': 'Vuelos a Santa Marta', 'precio_oferta': '97165', 'precio_normal': 0, 'imagen': '//media.staticontent.com/media/pictures/8104e5a0-add2-4d32-9830-6c01444f000d/300x200'}, {'categoria': 'Paquete', 'titulo': 'Paquetes a San Andrés', 'precio_oferta': '1101961', 'precio_normal': ' 1700421 ', 'imagen': '//media.staticontent.com/media/pictures/355716c8-378d-46d5-bcb5-fe5dba23e837/300x200'}, {'categoria': 'Vuelo', 'titulo': 'Vuelos a Cali', 'precio_oferta': '74660', 'precio_normal': 0, 'imagen': '//media.staticontent.com/media/pictures/d82b6f14-bd0d-4ec0-bf01-c4bff1e4b75b/300x200'}, {'categoria': 'Alojamiento', 'titulo': 'UGO Hotel', 'precio_oferta': '273984', 'precio_normal': 0, 'imagen': '//media.staticontent.com/media/pictures/a11b893a-1d88-41c9-916d-69706770c7c7/300x200'}, {'categoria': 'Actividad', 'titulo': 'Entradas a Parques Temáticos Disney', 'precio_oferta': '516283', 'precio_normal': 0, 'imagen': '//media.staticontent.com/media/pictures/a1a798f7-f4ab-4583-b4f2-cc17a5b1fef8/300x200'}, {'categoria': 'Alojamiento', 'titulo': 'Hotel Calypso Beach', 'precio_oferta': '613786', 'precio_normal': 0, 'imagen': '//media.staticontent.com/media/pictures/310ff2bd-d37d-498e-937e-bca37a310cb7/300x200'}, {'categoria': 'Vuelo', 'titulo': 'Vuelos a Miami', 'precio_oferta': '716870', 'precio_normal': 0, 'imagen': '//media.staticontent.com/media/pictures/0e58a86e-1bde-45e3-bf45-7146fb50af16/300x200'}, {'categoria': 'Paquete', 'titulo': 'Paquetes a Santa Marta', 'precio_oferta': '427063', 'precio_normal': ' 940802 ', 'imagen': '//media.staticontent.com/media/pictures/01f66394-73cc-40a7-a065-ecc06b3bc9c5/300x200'}, {'categoria': 'Alojamiento', 'titulo': 'Hotel Poblado Plaza', 'precio_oferta': '350400', 'precio_normal': ' 438000 ', 'imagen': '//media.staticontent.com/media/pictures/410ac798-9be4-4a26-92b3-59c97baa0d2d/300x200'}, {'categoria': 'Auto', 'titulo': 'Aeropuerto Internacional Miami', 'precio_oferta': '144592', 'precio_normal': 0, 'imagen': '//media.staticontent.com/media/pictures/5769cfcb-13f3-45b2-806a-f484a4146305/300x200'}, {'categoria': 'Auto', 'titulo': 'Bogotá', 'precio_oferta': '96487', 'precio_normal': 0, 'imagen': '//media.staticontent.com/media/pictures/df81fb5c-e63f-4375-8d57-eec21fac8d24/300x200'}, {'categoria': 'Vuelo', 'titulo': 'Vuelos a Cartagena de Indias', 'precio_oferta': '82010', 'precio_normal': 0, 'imagen': '//media.staticontent.com/media/pictures/6b25df5b-55d0-482d-8008-fcba968e8a3e/300x200'}, {'categoria': 'Alojamiento', 'titulo': 'Hotel Capilla Del Mar', 'precio_oferta': '392412', 'precio_normal': ' 509626 ', 'imagen': '//media.staticontent.com/media/pictures/e10e9950-267c-40bc-b3d9-ea6582b700cf/300x200'}, {'categoria': None, 'titulo': None, 'precio_oferta': 0, 'precio_normal': 0, 'imagen': None}, {'categoria': None, 'titulo': None, 'precio_oferta': 0, 'precio_normal': 0, 'imagen': None}, {'categoria': None, 'titulo': None, 'precio_oferta': 0, 'precio_normal': 0, 'imagen': None}, {'categoria': None, 'titulo': None, 'precio_oferta': 0, 'precio_normal': 0, 'imagen': None}, {'categoria': None, 'titulo': None, 'precio_oferta': 0, 'precio_normal': 0, 'imagen': None}, {'categoria': None, 'titulo': None, 'precio_oferta': 0, 'precio_normal': 0, 'imagen': None}, {'categoria': None, 'titulo': None, 'precio_oferta': 0, 'precio_normal': 0, 'imagen': None}, {'categoria': None, 'titulo': None, 'precio_oferta': 0, 'precio_normal': 0, 'imagen': None}, {'categoria': None, 'titulo': None, 'precio_oferta': 0, 'precio_normal': 0, 'imagen': None}, {'categoria': None, 'titulo': None, 'precio_oferta': 0, 'precio_normal': 0, 'imagen': None}, {'categoria': None, 'titulo': None, 'precio_oferta': 0, 'precio_normal': 0, 'imagen': None}, {'categoria': None, 'titulo': None, 'precio_oferta': 0, 'precio_normal': 0, 'imagen': None}, {'categoria': None, 'titulo': None, 'precio_oferta': 0, 'precio_normal': 0, 'imagen': None}, {'categoria': None, 'titulo': None, 'precio_oferta': 0, 'precio_normal': 0, 'imagen': None}, {'categoria': None, 'titulo': None, 'precio_oferta': 0, 'precio_normal': 0, 'imagen': None}, {'categoria': None, 'titulo': None, 'precio_oferta': 0, 'precio_normal': 0, 'imagen': None}, {'categoria': None, 'titulo': None, 'precio_oferta': 0, 'precio_normal': 0, 'imagen': None}, {'categoria': None, 'titulo': None, 'precio_oferta': 0, 'precio_normal': 0, 'imagen': None}, {'categoria': None, 'titulo': None, 'precio_oferta': 0, 'precio_normal': 0, 'imagen': None}, {'categoria': None, 'titulo': None, 'precio_oferta': 0, 'precio_normal': 0, 'imagen': None}, {'categoria': None, 'titulo': None, 'precio_oferta': 0, 'precio_normal': 0, 'imagen': None}, {'categoria': None, 'titulo': None, 'precio_oferta': 0, 'precio_normal': 0, 'imagen': None}]\n"
     ]
    }
   ],
   "source": [
    "\n",
    "\n",
    "# crear una lista de diccionarios\n",
    "promociones_lista = []\n",
    "promociones = {}\n",
    "import sys\n",
    "for etiqueta in etiqueta_promociones:\n",
    "    try:\n",
    "        promociones['categoria'] = chequear_nulo(etiqueta.select_one('.offer-card-product'))\n",
    "        promociones['titulo'] = chequear_nulo(etiqueta.select_one('.offer-card-title.small-title'))\n",
    "        promociones['precio_oferta'] = (chequear_nulo(etiqueta.select_one('.offer-card-pricebox-price-amount')))\n",
    "        if promociones['precio_oferta'] != None:\n",
    "            promociones['precio_oferta'] = promociones['precio_oferta'].replace('$','').replace('.','')\n",
    "        else:\n",
    "            promociones['precio_oferta'] = 0\n",
    "           \n",
    "        promociones['precio_normal'] = chequear_nulo(etiqueta.select_one('.offer-card-pricebox-price .offer-card-pricebox-price-old'))\n",
    "        if promociones['precio_normal'] != None:\n",
    "            promociones['precio_normal'] = promociones['precio_normal'].replace('$','').replace('.','')\n",
    "        else:\n",
    "            promociones['precio_normal'] = 0\n",
    "        promociones['imagen'] = chequear_imagen(etiqueta.select_one('.offer-card-image .offer-card-image-main'))\n",
    "    except:\n",
    "        # print the exception\n",
    "        print(sys.exc_info()[0])\n",
    "        continue \n",
    "    promociones_lista.append(promociones.copy())\n",
    "print(promociones_lista)\n"
   ]
  },
  {
   "cell_type": "code",
   "execution_count": 78,
   "metadata": {},
   "outputs": [
    {
     "name": "stdout",
     "output_type": "stream",
     "text": [
      "[{'categoria': 'Paquete', 'titulo': 'Paquetes a Cartagena de Indias', 'precio_oferta': Decimal('375065'), 'precio_normal': Decimal('408772'), 'imagen': '//media.staticontent.com/media/pictures/1d51a0f8-99f8-4c68-9e92-f7ea744437ea/300x200'}, {'categoria': 'Paquete', 'titulo': 'Paquetes a Cali', 'precio_oferta': Decimal('412876'), 'precio_normal': Decimal('456593'), 'imagen': '//media.staticontent.com/media/pictures/45486b4c-3442-4da3-9e03-a0a154197b23/300x200'}, {'categoria': 'Paquete', 'titulo': 'Paquetes a San Andrés', 'precio_oferta': Decimal('941004'), 'precio_normal': Decimal('1602844'), 'imagen': '//media.staticontent.com/media/pictures/24988134-97e6-428a-8e49-527fd4075157/300x200'}, {'categoria': 'Paquete', 'titulo': 'Paquetes a Punta Cana', 'precio_oferta': Decimal('2112665'), 'precio_normal': Decimal('2473671'), 'imagen': '//media.staticontent.com/media/pictures/e1a4d803-9b00-42ea-b901-0a8b7fca3917/300x200'}, {'categoria': 'Paquete', 'titulo': 'Paquetes a Ciudad de México', 'precio_oferta': Decimal('1321923'), 'precio_normal': Decimal('1503321'), 'imagen': '//media.staticontent.com/media/pictures/2fefbd59-69e7-408a-ac96-8bd806b9f693/300x200'}, {'categoria': 'Paquete', 'titulo': 'Paquetes a Madrid', 'precio_oferta': Decimal('2503271'), 'precio_normal': Decimal('2648771'), 'imagen': '//media.staticontent.com/media/pictures/3bfb4f98-cd6f-4e61-bab6-d8acbf0feb24/300x200'}, {'categoria': 'Paquete', 'titulo': 'Paquetes a Panamá', 'precio_oferta': Decimal('1068056'), 'precio_normal': Decimal('1266953'), 'imagen': '//media.staticontent.com/media/pictures/b269216a-22ec-4e51-b1a7-f5827873a158/300x200'}, {'categoria': 'Paquete', 'titulo': 'Paquetes a Buenos Aires', 'precio_oferta': Decimal('2173782'), 'precio_normal': Decimal('2717233'), 'imagen': '//media.staticontent.com/media/pictures/e3e81663-9725-434b-9d52-e924dab0345a/300x200'}, {'categoria': 'Vuelo', 'titulo': 'Vuelo a Cancún', 'precio_oferta': Decimal('866757'), 'precio_normal': Decimal('0'), 'imagen': '//media.staticontent.com/media/pictures/275da639-35f9-40f9-b791-6d04f8d0b122/300x200'}, {'categoria': 'Vuelo', 'titulo': 'París + Estambul', 'precio_oferta': Decimal('2685140'), 'precio_normal': Decimal('0'), 'imagen': '//media.staticontent.com/media/pictures/e6c62747-49eb-4f41-aece-4311fa4fe1e0/300x200'}, {'categoria': 'Vuelo', 'titulo': 'Vuelo a Santiago de Chile', 'precio_oferta': Decimal('930708'), 'precio_normal': Decimal('0'), 'imagen': '//media.staticontent.com/media/pictures/8723334b-ed49-4f2d-be98-b4922e0a476c/300x200'}, {'categoria': 'Vuelo', 'titulo': 'Vuelo a Monteria', 'precio_oferta': Decimal('136590'), 'precio_normal': Decimal('0'), 'imagen': '//media.staticontent.com/media/pictures/cedcf569-3bcd-413d-9ab1-56550c64d231/300x200'}, {'categoria': 'Vuelo', 'titulo': 'Vuelo a Buenos Aires', 'precio_oferta': Decimal('1638164'), 'precio_normal': Decimal('0'), 'imagen': '//media.staticontent.com/media/pictures/11699700-cd97-4f9e-b5cb-828c5092efdf/300x200'}, {'categoria': 'Vuelo', 'titulo': 'Vuelo a Barranquilla', 'precio_oferta': Decimal('144060'), 'precio_normal': Decimal('0'), 'imagen': '//media.staticontent.com/media/pictures/c9ac5751-d976-40ad-8c73-7b98309c0e24/300x200'}, {'categoria': 'Vuelo', 'titulo': 'Vuelo a Guarullos', 'precio_oferta': Decimal('1064460'), 'precio_normal': Decimal('0'), 'imagen': '//media.staticontent.com/media/pictures/082eb11c-b3f9-4967-997e-40d7c80b3061/300x200'}, {'categoria': 'Vuelo', 'titulo': 'Vuelo a Nueva York', 'precio_oferta': Decimal('838940'), 'precio_normal': Decimal('0'), 'imagen': '//media.staticontent.com/media/pictures/a125991e-3c03-4958-a6a5-27dbb6cc4062/300x200'}, {'categoria': 'Vuelo', 'titulo': 'Vuelos a Medellín', 'precio_oferta': Decimal('76737'), 'precio_normal': Decimal('0'), 'imagen': '//media.staticontent.com/media/pictures/56234749-08bf-4c05-a2de-617ce8941972/300x200'}, {'categoria': 'Vuelo', 'titulo': 'Vuelos a Cartagena de Indias', 'precio_oferta': Decimal('90121'), 'precio_normal': Decimal('0'), 'imagen': '//media.staticontent.com/media/pictures/7465e77a-1f66-402d-82ee-a4e4eb1548d2/300x200'}, {'categoria': 'Vuelo', 'titulo': 'Vuelos a Santa Marta', 'precio_oferta': Decimal('97165'), 'precio_normal': Decimal('0'), 'imagen': '//media.staticontent.com/media/pictures/8104e5a0-add2-4d32-9830-6c01444f000d/300x200'}, {'categoria': 'Paquete', 'titulo': 'Paquetes a San Andrés', 'precio_oferta': Decimal('1101961'), 'precio_normal': Decimal('1700421'), 'imagen': '//media.staticontent.com/media/pictures/355716c8-378d-46d5-bcb5-fe5dba23e837/300x200'}, {'categoria': 'Vuelo', 'titulo': 'Vuelos a Cali', 'precio_oferta': Decimal('74660'), 'precio_normal': Decimal('0'), 'imagen': '//media.staticontent.com/media/pictures/d82b6f14-bd0d-4ec0-bf01-c4bff1e4b75b/300x200'}, {'categoria': 'Alojamiento', 'titulo': 'UGO Hotel', 'precio_oferta': Decimal('273984'), 'precio_normal': Decimal('0'), 'imagen': '//media.staticontent.com/media/pictures/a11b893a-1d88-41c9-916d-69706770c7c7/300x200'}, {'categoria': 'Actividad', 'titulo': 'Entradas a Parques Temáticos Disney', 'precio_oferta': Decimal('516283'), 'precio_normal': Decimal('0'), 'imagen': '//media.staticontent.com/media/pictures/a1a798f7-f4ab-4583-b4f2-cc17a5b1fef8/300x200'}, {'categoria': 'Alojamiento', 'titulo': 'Hotel Calypso Beach', 'precio_oferta': Decimal('613786'), 'precio_normal': Decimal('0'), 'imagen': '//media.staticontent.com/media/pictures/310ff2bd-d37d-498e-937e-bca37a310cb7/300x200'}, {'categoria': 'Vuelo', 'titulo': 'Vuelos a Miami', 'precio_oferta': Decimal('716870'), 'precio_normal': Decimal('0'), 'imagen': '//media.staticontent.com/media/pictures/0e58a86e-1bde-45e3-bf45-7146fb50af16/300x200'}, {'categoria': 'Paquete', 'titulo': 'Paquetes a Santa Marta', 'precio_oferta': Decimal('427063'), 'precio_normal': Decimal('940802'), 'imagen': '//media.staticontent.com/media/pictures/01f66394-73cc-40a7-a065-ecc06b3bc9c5/300x200'}, {'categoria': 'Alojamiento', 'titulo': 'Hotel Poblado Plaza', 'precio_oferta': Decimal('350400'), 'precio_normal': Decimal('438000'), 'imagen': '//media.staticontent.com/media/pictures/410ac798-9be4-4a26-92b3-59c97baa0d2d/300x200'}, {'categoria': 'Auto', 'titulo': 'Aeropuerto Internacional Miami', 'precio_oferta': Decimal('144592'), 'precio_normal': Decimal('0'), 'imagen': '//media.staticontent.com/media/pictures/5769cfcb-13f3-45b2-806a-f484a4146305/300x200'}, {'categoria': 'Auto', 'titulo': 'Bogotá', 'precio_oferta': Decimal('96487'), 'precio_normal': Decimal('0'), 'imagen': '//media.staticontent.com/media/pictures/df81fb5c-e63f-4375-8d57-eec21fac8d24/300x200'}, {'categoria': 'Vuelo', 'titulo': 'Vuelos a Cartagena de Indias', 'precio_oferta': Decimal('82010'), 'precio_normal': Decimal('0'), 'imagen': '//media.staticontent.com/media/pictures/6b25df5b-55d0-482d-8008-fcba968e8a3e/300x200'}, {'categoria': 'Alojamiento', 'titulo': 'Hotel Capilla Del Mar', 'precio_oferta': Decimal('392412'), 'precio_normal': Decimal('509626'), 'imagen': '//media.staticontent.com/media/pictures/e10e9950-267c-40bc-b3d9-ea6582b700cf/300x200'}, {'categoria': None, 'titulo': None, 'precio_oferta': Decimal('0'), 'precio_normal': Decimal('0'), 'imagen': None}, {'categoria': None, 'titulo': None, 'precio_oferta': Decimal('0'), 'precio_normal': Decimal('0'), 'imagen': None}, {'categoria': None, 'titulo': None, 'precio_oferta': Decimal('0'), 'precio_normal': Decimal('0'), 'imagen': None}, {'categoria': None, 'titulo': None, 'precio_oferta': Decimal('0'), 'precio_normal': Decimal('0'), 'imagen': None}, {'categoria': None, 'titulo': None, 'precio_oferta': Decimal('0'), 'precio_normal': Decimal('0'), 'imagen': None}, {'categoria': None, 'titulo': None, 'precio_oferta': Decimal('0'), 'precio_normal': Decimal('0'), 'imagen': None}, {'categoria': None, 'titulo': None, 'precio_oferta': Decimal('0'), 'precio_normal': Decimal('0'), 'imagen': None}, {'categoria': None, 'titulo': None, 'precio_oferta': Decimal('0'), 'precio_normal': Decimal('0'), 'imagen': None}, {'categoria': None, 'titulo': None, 'precio_oferta': Decimal('0'), 'precio_normal': Decimal('0'), 'imagen': None}, {'categoria': None, 'titulo': None, 'precio_oferta': Decimal('0'), 'precio_normal': Decimal('0'), 'imagen': None}, {'categoria': None, 'titulo': None, 'precio_oferta': Decimal('0'), 'precio_normal': Decimal('0'), 'imagen': None}, {'categoria': None, 'titulo': None, 'precio_oferta': Decimal('0'), 'precio_normal': Decimal('0'), 'imagen': None}, {'categoria': None, 'titulo': None, 'precio_oferta': Decimal('0'), 'precio_normal': Decimal('0'), 'imagen': None}, {'categoria': None, 'titulo': None, 'precio_oferta': Decimal('0'), 'precio_normal': Decimal('0'), 'imagen': None}, {'categoria': None, 'titulo': None, 'precio_oferta': Decimal('0'), 'precio_normal': Decimal('0'), 'imagen': None}, {'categoria': None, 'titulo': None, 'precio_oferta': Decimal('0'), 'precio_normal': Decimal('0'), 'imagen': None}, {'categoria': None, 'titulo': None, 'precio_oferta': Decimal('0'), 'precio_normal': Decimal('0'), 'imagen': None}, {'categoria': None, 'titulo': None, 'precio_oferta': Decimal('0'), 'precio_normal': Decimal('0'), 'imagen': None}, {'categoria': None, 'titulo': None, 'precio_oferta': Decimal('0'), 'precio_normal': Decimal('0'), 'imagen': None}, {'categoria': None, 'titulo': None, 'precio_oferta': Decimal('0'), 'precio_normal': Decimal('0'), 'imagen': None}, {'categoria': None, 'titulo': None, 'precio_oferta': Decimal('0'), 'precio_normal': Decimal('0'), 'imagen': None}, {'categoria': None, 'titulo': None, 'precio_oferta': Decimal('0'), 'precio_normal': Decimal('0'), 'imagen': None}]\n"
     ]
    }
   ],
   "source": [
    "# convert string to decimal\n",
    "for promocion in promociones_lista:\n",
    "    promocion['precio_oferta'] = Decimal(promocion['precio_oferta'])\n",
    "    promocion['precio_normal'] = Decimal(promocion['precio_normal'])\n",
    "print(promociones_lista)"
   ]
  },
  {
   "cell_type": "code",
   "execution_count": 79,
   "metadata": {},
   "outputs": [
    {
     "name": "stdout",
     "output_type": "stream",
     "text": [
      "      categoria                               titulo precio_oferta  \\\n",
      "0       Paquete       Paquetes a Cartagena de Indias        375065   \n",
      "1       Paquete                      Paquetes a Cali        412876   \n",
      "2       Paquete                Paquetes a San Andrés        941004   \n",
      "3       Paquete                Paquetes a Punta Cana       2112665   \n",
      "4       Paquete          Paquetes a Ciudad de México       1321923   \n",
      "5       Paquete                    Paquetes a Madrid       2503271   \n",
      "6       Paquete                    Paquetes a Panamá       1068056   \n",
      "7       Paquete              Paquetes a Buenos Aires       2173782   \n",
      "8         Vuelo                       Vuelo a Cancún        866757   \n",
      "9         Vuelo                     París + Estambul       2685140   \n",
      "10        Vuelo            Vuelo a Santiago de Chile        930708   \n",
      "11        Vuelo                     Vuelo a Monteria        136590   \n",
      "12        Vuelo                 Vuelo a Buenos Aires       1638164   \n",
      "13        Vuelo                 Vuelo a Barranquilla        144060   \n",
      "14        Vuelo                    Vuelo a Guarullos       1064460   \n",
      "15        Vuelo                   Vuelo a Nueva York        838940   \n",
      "16        Vuelo                    Vuelos a Medellín         76737   \n",
      "17        Vuelo         Vuelos a Cartagena de Indias         90121   \n",
      "18        Vuelo                 Vuelos a Santa Marta         97165   \n",
      "19      Paquete                Paquetes a San Andrés       1101961   \n",
      "20        Vuelo                        Vuelos a Cali         74660   \n",
      "21  Alojamiento                            UGO Hotel        273984   \n",
      "22    Actividad  Entradas a Parques Temáticos Disney        516283   \n",
      "23  Alojamiento                  Hotel Calypso Beach        613786   \n",
      "24        Vuelo                       Vuelos a Miami        716870   \n",
      "25      Paquete               Paquetes a Santa Marta        427063   \n",
      "26  Alojamiento                  Hotel Poblado Plaza        350400   \n",
      "27         Auto       Aeropuerto Internacional Miami        144592   \n",
      "28         Auto                               Bogotá         96487   \n",
      "29        Vuelo         Vuelos a Cartagena de Indias         82010   \n",
      "30  Alojamiento                Hotel Capilla Del Mar        392412   \n",
      "31         None                                 None             0   \n",
      "32         None                                 None             0   \n",
      "33         None                                 None             0   \n",
      "34         None                                 None             0   \n",
      "35         None                                 None             0   \n",
      "36         None                                 None             0   \n",
      "37         None                                 None             0   \n",
      "38         None                                 None             0   \n",
      "39         None                                 None             0   \n",
      "40         None                                 None             0   \n",
      "41         None                                 None             0   \n",
      "42         None                                 None             0   \n",
      "43         None                                 None             0   \n",
      "44         None                                 None             0   \n",
      "45         None                                 None             0   \n",
      "46         None                                 None             0   \n",
      "47         None                                 None             0   \n",
      "48         None                                 None             0   \n",
      "49         None                                 None             0   \n",
      "50         None                                 None             0   \n",
      "51         None                                 None             0   \n",
      "52         None                                 None             0   \n",
      "\n",
      "   precio_normal                                             imagen  \n",
      "0         408772  //media.staticontent.com/media/pictures/1d51a0...  \n",
      "1         456593  //media.staticontent.com/media/pictures/45486b...  \n",
      "2        1602844  //media.staticontent.com/media/pictures/249881...  \n",
      "3        2473671  //media.staticontent.com/media/pictures/e1a4d8...  \n",
      "4        1503321  //media.staticontent.com/media/pictures/2fefbd...  \n",
      "5        2648771  //media.staticontent.com/media/pictures/3bfb4f...  \n",
      "6        1266953  //media.staticontent.com/media/pictures/b26921...  \n",
      "7        2717233  //media.staticontent.com/media/pictures/e3e816...  \n",
      "8              0  //media.staticontent.com/media/pictures/275da6...  \n",
      "9              0  //media.staticontent.com/media/pictures/e6c627...  \n",
      "10             0  //media.staticontent.com/media/pictures/872333...  \n",
      "11             0  //media.staticontent.com/media/pictures/cedcf5...  \n",
      "12             0  //media.staticontent.com/media/pictures/116997...  \n",
      "13             0  //media.staticontent.com/media/pictures/c9ac57...  \n",
      "14             0  //media.staticontent.com/media/pictures/082eb1...  \n",
      "15             0  //media.staticontent.com/media/pictures/a12599...  \n",
      "16             0  //media.staticontent.com/media/pictures/562347...  \n",
      "17             0  //media.staticontent.com/media/pictures/7465e7...  \n",
      "18             0  //media.staticontent.com/media/pictures/8104e5...  \n",
      "19       1700421  //media.staticontent.com/media/pictures/355716...  \n",
      "20             0  //media.staticontent.com/media/pictures/d82b6f...  \n",
      "21             0  //media.staticontent.com/media/pictures/a11b89...  \n",
      "22             0  //media.staticontent.com/media/pictures/a1a798...  \n",
      "23             0  //media.staticontent.com/media/pictures/310ff2...  \n",
      "24             0  //media.staticontent.com/media/pictures/0e58a8...  \n",
      "25        940802  //media.staticontent.com/media/pictures/01f663...  \n",
      "26        438000  //media.staticontent.com/media/pictures/410ac7...  \n",
      "27             0  //media.staticontent.com/media/pictures/5769cf...  \n",
      "28             0  //media.staticontent.com/media/pictures/df81fb...  \n",
      "29             0  //media.staticontent.com/media/pictures/6b25df...  \n",
      "30        509626  //media.staticontent.com/media/pictures/e10e99...  \n",
      "31             0                                               None  \n",
      "32             0                                               None  \n",
      "33             0                                               None  \n",
      "34             0                                               None  \n",
      "35             0                                               None  \n",
      "36             0                                               None  \n",
      "37             0                                               None  \n",
      "38             0                                               None  \n",
      "39             0                                               None  \n",
      "40             0                                               None  \n",
      "41             0                                               None  \n",
      "42             0                                               None  \n",
      "43             0                                               None  \n",
      "44             0                                               None  \n",
      "45             0                                               None  \n",
      "46             0                                               None  \n",
      "47             0                                               None  \n",
      "48             0                                               None  \n",
      "49             0                                               None  \n",
      "50             0                                               None  \n",
      "51             0                                               None  \n",
      "52             0                                               None  \n"
     ]
    }
   ],
   "source": [
    "# crear un dataframe\n",
    "df = pd.DataFrame(promociones_lista)\n",
    "df.columns = ['categoria', 'titulo', 'precio_oferta', 'precio_normal', 'imagen']\n",
    "df.to_csv('promociones.csv', index=False, encoding='utf-8-sig')\n",
    "print(df)\n",
    "\n"
   ]
  }
 ],
 "metadata": {
  "interpreter": {
   "hash": "6c3ed7ee24fab0329143935c7a8d1152471eb3ca2f0e5c54769f25c716a07dbd"
  },
  "kernelspec": {
   "display_name": "Python 3.8.12 64-bit ('scraping': conda)",
   "language": "python",
   "name": "python3"
  },
  "language_info": {
   "codemirror_mode": {
    "name": "ipython",
    "version": 3
   },
   "file_extension": ".py",
   "mimetype": "text/x-python",
   "name": "python",
   "nbconvert_exporter": "python",
   "pygments_lexer": "ipython3",
   "version": "3.8.12"
  },
  "orig_nbformat": 4
 },
 "nbformat": 4,
 "nbformat_minor": 2
}

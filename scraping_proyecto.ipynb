{
 "cells": [
  {
   "cell_type": "code",
   "execution_count": 1,
   "metadata": {},
   "outputs": [],
   "source": [
    "from bs4 import BeautifulSoup\n",
    "from selenium import webdriver # módulo que contiene implementaciones de controladores de navegadores web\n",
    "from webdriver_manager.chrome import ChromeDriverManager # controlador de Chrome  \n",
    "from selenium.webdriver.support import expected_conditions as EC # método para escribir códigos que esperan hasta que ciertas condiciones sean cumplidas\n",
    "from selenium.webdriver.support.ui import WebDriverWait # método para escribir códigos que utilizan esperas implícitas o explícitas\n",
    "from selenium.webdriver.common.by import By # método para localizar elementos por sus atributos HTML\n",
    "from selenium.webdriver import ActionChains # módulo para implementar interacciones con el navegador from selenium import webdriver\n",
    "from selenium.webdriver.chrome.options import Options"
   ]
  },
  {
   "cell_type": "code",
   "execution_count": 2,
   "metadata": {},
   "outputs": [],
   "source": [
    "chrome_options = Options()\n",
    "chrome_options.add_argument('--headless')\n",
    "chrome_options.add_argument('--no-sandbox')\n",
    "chrome_options.add_argument('--disable-dev-shm-usage')\n",
    "#d = webdriver.Chrome('your-chrome-driver-path',chrome_options=chrome_options)"
   ]
  },
  {
   "cell_type": "code",
   "execution_count": 3,
   "metadata": {},
   "outputs": [
    {
     "name": "stderr",
     "output_type": "stream",
     "text": [
      "[WDM] - Current google-chrome version is 97.0.4692\n",
      "[WDM] - Get LATEST driver version for 97.0.4692\n",
      "[WDM] - Driver [/home/genesis/.wdm/drivers/chromedriver/linux64/97.0.4692.71/chromedriver] found in cache\n"
     ]
    },
    {
     "name": "stdout",
     "output_type": "stream",
     "text": [
      " \n"
     ]
    }
   ],
   "source": [
    "# Inicializa la página web en el navegador Chrome\n",
    "driver = webdriver.Chrome(ChromeDriverManager().install(),chrome_options=chrome_options)\n",
    "url = 'https://www.despegar.com.co/'\n",
    "driver.get(url) # aca le pido al webdriver que me traiga la pagina que le solicite en url"
   ]
  },
  {
   "cell_type": "code",
   "execution_count": 4,
   "metadata": {},
   "outputs": [
    {
     "name": "stdout",
     "output_type": "stream",
     "text": [
      "https://www.despegar.com.co/\n"
     ]
    }
   ],
   "source": [
    "elemento_oferta = '.shifu-3-header .header-corners-container .header-product-item .shifu-3-button-circle.OFFERS'\n",
    "delay = 10\n",
    "try:\n",
    "    element_present = EC.presence_of_element_located((By.CSS_SELECTOR, elemento_oferta))\n",
    "    WebDriverWait(driver, delay).until(element_present)\n",
    "except TimeoutError:\n",
    "    print('Timed out waiting for page to load')\n",
    "print(driver.current_url)\n"
   ]
  },
  {
   "cell_type": "code",
   "execution_count": 5,
   "metadata": {},
   "outputs": [
    {
     "name": "stdout",
     "output_type": "stream",
     "text": [
      "https://www.despegar.com.co/ofertas-de-viajes\n"
     ]
    }
   ],
   "source": [
    "element1 = driver.find_element_by_css_selector(elemento_oferta)\n",
    "ActionChains(driver).click(element1).perform()\n",
    "print(driver.current_url)"
   ]
  },
  {
   "cell_type": "code",
   "execution_count": 6,
   "metadata": {},
   "outputs": [],
   "source": [
    "soup = BeautifulSoup(driver.page_source, 'html.parser')\n",
    "driver.quit()\n"
   ]
  },
  {
   "cell_type": "code",
   "execution_count": 7,
   "metadata": {},
   "outputs": [],
   "source": [
    "etiqueta_promociones = soup.select('slider-item')  # selecciona todos los elementos que tienen la clase slider-item\n",
    "\n"
   ]
  },
  {
   "cell_type": "code",
   "execution_count": 8,
   "metadata": {},
   "outputs": [
    {
     "name": "stdout",
     "output_type": "stream",
     "text": [
      "Paquetes a Cartagena de Indias //media.staticontent.com/media/pictures/53d225ab-e0e8-4f60-b65b-29b43c71f07e/300x200 Paquete 604.883  $832.739 \n",
      "Paquetes a Cali //media.staticontent.com/media/pictures/546c3a88-dac6-4fab-b473-338ae9654ee0/300x200 Paquete 386.943  $511.011 \n",
      "Paquetes a San Andrés //media.staticontent.com/media/pictures/5cc13b62-c0dc-4143-b3e0-a895752c280e/300x200 Paquete 1.056.157  $1.387.889 \n",
      "Paquetes a Cancún //media.staticontent.com/media/pictures/229e9dfd-402d-4908-bd75-692683d7f0fb/300x200 Paquete 2.394.168  $2.724.317 \n",
      "Paquetes a Miami //media.staticontent.com/media/pictures/d2829cc9-46ae-42f8-ae68-d3ee165c7f4e/300x200 Paquete 2.637.483  $2.729.632 \n",
      "Paquetes a Nueva York //media.staticontent.com/media/pictures/8e4ff942-b2fb-4740-9b17-9248fee71b7f/300x200 Paquete 2.272.543  $3.442.802 \n",
      "Paquetes a Panamá //media.staticontent.com/media/pictures/ec13b227-2681-4918-8f94-efe96767c704/300x200 Paquete 1.070.001  $1.273.791 \n",
      "Paquetes a Buenos Aires //media.staticontent.com/media/pictures/94e39a4e-4d02-48f4-858d-418e291213ed/300x200 Paquete 2.460.856  $2.677.783 \n",
      "Vuelo a Madrid //media.staticontent.com/media/pictures/9e92c430-6b23-46ef-9d73-b6861b797ab0/300x200 Vuelo 1.975.780 None\n",
      "París + Estambul //media.staticontent.com/media/pictures/2fa214fb-8fb6-402d-ac14-0db19fd2f6b4/300x200 Vuelo 3.440.970 None\n",
      "Vuelo a Ciudad de México //media.staticontent.com/media/pictures/a6690014-4b10-440b-b426-00ba54833831/300x200 Vuelo 765.158 None\n",
      "Ginebra + Estambul //media.staticontent.com/media/pictures/e16edd13-0662-4607-9ed9-cdeef8676eb9/300x200 Vuelo 3.545.990 None\n",
      "Vuelo a Cancún //media.staticontent.com/media/pictures/41538631-2cf4-451f-9512-5b4df34fed94/300x200 Vuelo 865.329 None\n",
      "Panamá + Asunción //media.staticontent.com/media/pictures/06a1e70d-09cb-4aae-b285-da9c3fe21826/300x200 Vuelo 1.266.850 None\n",
      "Vuelo a Miami //media.staticontent.com/media/pictures/b81d3ade-97eb-4bfa-b968-b3a427215c3d/300x200 Vuelo 796.597 None\n",
      "Vuelo a Buenos Aires //media.staticontent.com/media/pictures/9aca1031-4922-444a-a557-506a1c1471ad/300x200 Vuelo 1.647.560 None\n",
      "Vuelos a Medellín //media.staticontent.com/media/pictures/769e6447-4100-4e90-82bc-684b47c1b53d/300x200 Vuelo 130.506 None\n",
      "Vuelos a Cartagena de Indias //media.staticontent.com/media/pictures/d8303972-7f71-49b2-b2a0-6457966ef56e/300x200 Vuelo 146.890 None\n",
      "Vuelos a Santa Marta //media.staticontent.com/media/pictures/24ef210e-9581-437c-9686-7aadde671d9d/300x200 Vuelo 147.473 None\n",
      "Paquetes a San Andrés //media.staticontent.com/media/pictures/97ee57f5-8121-4c2e-bbcc-aa10391ded32/300x200 Paquete 1.472.612  $2.226.504 \n",
      "Vuelos a Cali //media.staticontent.com/media/pictures/eab748d7-ba22-4a46-b6b3-4b006be69462/300x200 Vuelo 136.967 None\n",
      "UGO Hotel //media.staticontent.com/media/pictures/a11b893a-1d88-41c9-916d-69706770c7c7/300x200 Alojamiento 330.321 None\n",
      "Entradas a Parques Temáticos Disney //media.staticontent.com/media/pictures/a1a798f7-f4ab-4583-b4f2-cc17a5b1fef8/300x200 Actividad 526.976 None\n",
      "Hotel Calypso Beach //media.staticontent.com/media/pictures/310ff2bd-d37d-498e-937e-bca37a310cb7/300x200 Alojamiento 616.697 None\n",
      "Vuelos a Ciudad de México //media.staticontent.com/media/pictures/029093cd-e3bc-4068-8342-ab807f6e9202/300x200 Vuelo 3.007.860 None\n",
      "Vuelos a Miami //media.staticontent.com/media/pictures/b5249432-a0c7-4d8e-8023-7f042ed9a58d/300x200 Vuelo 808.626 None\n",
      "Paquetes a Santa Marta //media.staticontent.com/media/pictures/01f66394-73cc-40a7-a065-ecc06b3bc9c5/300x200 Paquete 528.334  $1.041.889 \n",
      "Hotel Poblado Plaza //media.staticontent.com/media/pictures/410ac798-9be4-4a26-92b3-59c97baa0d2d/300x200 Alojamiento 386.850  $466.085 \n",
      "Aeropuerto Internacional Miami //media.staticontent.com/media/pictures/738c0839-6390-4b83-a15c-fef9171cdd96/300x200 Auto 65.119 None\n",
      "Bogotá //media.staticontent.com/media/pictures/f2facdbe-0144-430f-801a-67d507ac146a/300x200 Auto 168.980 None\n",
      "Vuelos a Cartagena de Indias //media.staticontent.com/media/pictures/60ba74ab-4660-44e6-a618-b046e6b0cad5/300x200 Vuelo 96.825 None\n",
      "Hotel Capilla Del Mar //media.staticontent.com/media/pictures/e10e9950-267c-40bc-b3d9-ea6582b700cf/300x200 Alojamiento 392.412  $509.626 \n",
      "None None None None None\n",
      "None None None None None\n",
      "None None None None None\n",
      "None None None None None\n",
      "None None None None None\n",
      "None None None None None\n",
      "None None None None None\n",
      "None None None None None\n",
      "None None None None None\n",
      "None None None None None\n",
      "None None None None None\n",
      "None None None None None\n",
      "None None None None None\n",
      "None None None None None\n",
      "None None None None None\n",
      "None None None None None\n",
      "None None None None None\n",
      "None None None None None\n",
      "None None None None None\n",
      "None None None None None\n",
      "None None None None None\n",
      "None None None None None\n"
     ]
    }
   ],
   "source": [
    "def chequear_nulo(etiqueta):\n",
    "    if etiqueta is not None:\n",
    "        return etiqueta.text\n",
    "\n",
    "def chequear_imagen(etiqueta):\n",
    "    if etiqueta is not None:\n",
    "        return etiqueta['src']\n",
    "\n",
    "for etiqueta in (etiqueta_promociones):\n",
    "    titulo = etiqueta.select_one('.offer-card-title.small-title ')\n",
    "    imagen = etiqueta.select_one('.offer-card-image .offer-card-image-main')\n",
    "    categoria = etiqueta.select_one('.offer-card-product')\n",
    "    precio_oferta = etiqueta.select_one('.offer-card-pricebox-price-amount ')\n",
    "    precio_normal = etiqueta.select_one('.offer-card-pricebox-price .offer-card-pricebox-price-old')\n",
    "    print(chequear_nulo(titulo), chequear_imagen(imagen), chequear_nulo(categoria), chequear_nulo(precio_oferta), chequear_nulo(precio_normal))\n",
    "\n"
   ]
  }
 ],
 "metadata": {
  "interpreter": {
   "hash": "6c3ed7ee24fab0329143935c7a8d1152471eb3ca2f0e5c54769f25c716a07dbd"
  },
  "kernelspec": {
   "display_name": "Python 3.8.12 64-bit ('scraping': conda)",
   "language": "python",
   "name": "python3"
  },
  "language_info": {
   "codemirror_mode": {
    "name": "ipython",
    "version": 3
   },
   "file_extension": ".py",
   "mimetype": "text/x-python",
   "name": "python",
   "nbconvert_exporter": "python",
   "pygments_lexer": "ipython3",
   "version": "3.8.12"
  },
  "orig_nbformat": 4
 },
 "nbformat": 4,
 "nbformat_minor": 2
}

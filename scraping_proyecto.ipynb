{
 "cells": [
  {
   "cell_type": "code",
   "execution_count": 1,
   "metadata": {},
   "outputs": [],
   "source": [
    "from bs4 import BeautifulSoup\n",
    "from selenium import webdriver # módulo que contiene implementaciones de controladores de navegadores web\n",
    "from webdriver_manager.chrome import ChromeDriverManager # controlador de Chrome  \n",
    "from selenium.webdriver.support import expected_conditions as EC # método para escribir códigos que esperan hasta que ciertas condiciones sean cumplidas\n",
    "from selenium.webdriver.support.ui import WebDriverWait # método para escribir códigos que utilizan esperas implícitas o explícitas\n",
    "from selenium.webdriver.common.by import By # método para localizar elementos por sus atributos HTML\n",
    "from selenium.webdriver import ActionChains # módulo para implementar interacciones con el navegador from selenium import webdriver\n",
    "from selenium.webdriver.chrome.options import Options"
   ]
  },
  {
   "cell_type": "code",
   "execution_count": 2,
   "metadata": {},
   "outputs": [],
   "source": [
    "chrome_options = Options()\n",
    "chrome_options.add_argument('--headless')\n",
    "chrome_options.add_argument('--no-sandbox')\n",
    "chrome_options.add_argument('--disable-dev-shm-usage')\n",
    "#d = webdriver.Chrome('your-chrome-driver-path',chrome_options=chrome_options)"
   ]
  },
  {
   "cell_type": "code",
   "execution_count": 3,
   "metadata": {},
   "outputs": [
    {
     "name": "stderr",
     "output_type": "stream",
     "text": [
      "[WDM] - Current google-chrome version is 97.0.4692\n",
      "[WDM] - Get LATEST driver version for 97.0.4692\n"
     ]
    },
    {
     "name": "stdout",
     "output_type": "stream",
     "text": [
      " \n"
     ]
    },
    {
     "name": "stderr",
     "output_type": "stream",
     "text": [
      "[WDM] - Get LATEST driver version for 97.0.4692\n",
      "[WDM] - Trying to download new driver from http://chromedriver.storage.googleapis.com/97.0.4692.71/chromedriver_linux64.zip\n",
      "[WDM] - Driver has been saved in cache [/home/genesis/.wdm/drivers/chromedriver/linux64/97.0.4692.71]\n"
     ]
    }
   ],
   "source": [
    "# Inicializa la página web en el navegador Chrome\n",
    "driver = webdriver.Chrome(ChromeDriverManager().install(),chrome_options=chrome_options)\n",
    "url = 'https://www.despegar.com.co/'\n",
    "driver.get(url) # aca le pido al webdriver que me traiga la pagina que le solicite en url"
   ]
  },
  {
   "cell_type": "code",
   "execution_count": 4,
   "metadata": {},
   "outputs": [
    {
     "name": "stdout",
     "output_type": "stream",
     "text": [
      "https://www.despegar.com.co/\n"
     ]
    }
   ],
   "source": [
    "elemento_oferta = '.shifu-3-header .header-corners-container .header-product-item .shifu-3-button-circle.OFFERS'\n",
    "delay = 10\n",
    "try:\n",
    "    element_present = EC.presence_of_element_located((By.CSS_SELECTOR, elemento_oferta))\n",
    "    WebDriverWait(driver, delay).until(element_present)\n",
    "except TimeoutError:\n",
    "    print('Timed out waiting for page to load')\n",
    "print(driver.current_url)\n"
   ]
  },
  {
   "cell_type": "code",
   "execution_count": 5,
   "metadata": {},
   "outputs": [
    {
     "name": "stdout",
     "output_type": "stream",
     "text": [
      "https://www.despegar.com.co/ofertas-de-viajes\n"
     ]
    }
   ],
   "source": [
    "element1 = driver.find_element_by_css_selector(elemento_oferta)\n",
    "ActionChains(driver).click(element1).perform()\n",
    "print(driver.current_url)"
   ]
  },
  {
   "cell_type": "code",
   "execution_count": 6,
   "metadata": {},
   "outputs": [],
   "source": [
    "soup = BeautifulSoup(driver.page_source, 'html.parser')\n",
    "driver.quit()\n"
   ]
  },
  {
   "cell_type": "code",
   "execution_count": 7,
   "metadata": {},
   "outputs": [],
   "source": [
    "etiqueta_promociones = soup.select('slider-item')  # selecciona todos los elementos que tienen la clase slider-item\n",
    "\n"
   ]
  },
  {
   "cell_type": "code",
   "execution_count": 32,
   "metadata": {},
   "outputs": [
    {
     "name": "stdout",
     "output_type": "stream",
     "text": [
      "Paquetes a Cartagena de Indias //media.staticontent.com/media/pictures/6b4d7593-f154-4c1c-a0b8-5aefdcca9b23/300x200 Paquete 738.644  $1.461.227 \n",
      "\n",
      "\n",
      "Paquetes a Cali //media.staticontent.com/media/pictures/cf17bae5-5bbf-4b67-a1d4-c79fab7f3ea0/300x200 Paquete 337.614  $456.699 \n",
      "\n",
      "\n",
      "Paquetes a San Andrés //media.staticontent.com/media/pictures/5cc13b62-c0dc-4143-b3e0-a895752c280e/300x200 Paquete 976.737  $1.620.956 \n",
      "\n",
      "\n",
      "Paquetes a Cancún //media.staticontent.com/media/pictures/3f50e52f-a644-4d87-aabf-26d65078c5ec/300x200 Paquete 2.371.837  $2.696.131 \n",
      "\n",
      "\n",
      "Paquetes a Ciudad de México //media.staticontent.com/media/pictures/396b2633-76a8-4709-9a5f-f157beaa0dfc/300x200 Paquete 1.197.824  $1.788.435 \n",
      "\n",
      "\n",
      "Paquetes a Nueva York //media.staticontent.com/media/pictures/8ddc824a-122f-44c7-b906-ec91cbfb5be5/300x200 Paquete 1.925.338  $2.065.457 \n",
      "\n",
      "\n",
      "Paquetes a Panamá //media.staticontent.com/media/pictures/47408bb2-90b3-41f7-aa07-7514c25f7480/300x200 Paquete 1.124.728  $1.381.099 \n",
      "\n",
      "\n",
      "Paquetes a Buenos Aires //media.staticontent.com/media/pictures/e3e81663-9725-434b-9d52-e924dab0345a/300x200 Paquete 4.692.628  $4.931.641 \n",
      "\n",
      "\n",
      "Vuelo a Cancún //media.staticontent.com/media/pictures/83ddc568-e61d-4292-ac88-af9a4af136af/300x200 Vuelo 865.329 None\n",
      "\n",
      "\n",
      "Vuelo a Miami //media.staticontent.com/media/pictures/b76ec1e4-dd4f-4ea2-a4f0-46384a9e57bb/300x200 Vuelo 728.350 None\n",
      "\n",
      "\n",
      "Vuelo a Guarullos //media.staticontent.com/media/pictures/082eb11c-b3f9-4967-997e-40d7c80b3061/300x200 Vuelo 1.071.400 None\n",
      "\n",
      "\n",
      "Vuelo a Madrid //media.staticontent.com/media/pictures/13c15223-95d4-432a-8787-dd5559beebfc/300x200 Vuelo 1.859.614 None\n",
      "\n",
      "\n",
      "Vuelo a Cartagena de Indias //media.staticontent.com/media/pictures/5c804847-8b9e-4f22-b2c4-c0a05f2f7e47/300x200 Vuelo 188.173 None\n",
      "\n",
      "\n",
      "Vuelo a Santa Marta //media.staticontent.com/media/pictures/4eeed91e-c4a3-41c9-b91d-c0e999f66300/300x200 Vuelo 184.836 None\n",
      "\n",
      "\n",
      "Vuelo a San Andrés //media.staticontent.com/media/pictures/5ace70e5-70bf-4428-9c39-424f2e190472/300x200 Vuelo 193.913 None\n",
      "\n",
      "\n",
      "Vuelo a Medellín //media.staticontent.com/media/pictures/29917df6-1e96-436f-a4aa-cce4e4ae1bc6/300x200 Vuelo 154.022 None\n",
      "\n",
      "\n",
      "Vuelos a Medellín //media.staticontent.com/media/pictures/29917df6-1e96-436f-a4aa-cce4e4ae1bc6/300x200 Vuelo 76.737 None\n",
      "\n",
      "\n",
      "Vuelos a Cartagena de Indias //media.staticontent.com/media/pictures/bb6844e4-d4be-4f0f-b268-7667d874db48/300x200 Vuelo 109.737 None\n",
      "\n",
      "\n",
      "Vuelos a Santa Marta //media.staticontent.com/media/pictures/00f0e854-81b9-4e2a-b7f1-3641e6ca0362/300x200 Vuelo 109.737 None\n",
      "\n",
      "\n",
      "Vuelos a Cali //media.staticontent.com/media/pictures/86f02cf0-a345-4f5f-92f7-22ca783c2969/300x200 Vuelo 76.737 None\n",
      "\n",
      "\n",
      "UGO Hotel //media.staticontent.com/media/pictures/a11b893a-1d88-41c9-916d-69706770c7c7/300x200 Alojamiento 336.039 None\n",
      "\n",
      "\n",
      "Entradas a Parques Temáticos Disney //media.staticontent.com/media/pictures/a1a798f7-f4ab-4583-b4f2-cc17a5b1fef8/300x200 Actividad 532.828 None\n",
      "\n",
      "\n",
      "Hotel Calypso Beach //media.staticontent.com/media/pictures/310ff2bd-d37d-498e-937e-bca37a310cb7/300x200 Alojamiento 620.374 None\n",
      "\n",
      "\n",
      "Vuelos a Ciudad de México //media.staticontent.com/media/pictures/c02efb0e-36e9-410b-834d-dabc9cf69e38/300x200 Vuelo 2.827.031 None\n",
      "\n",
      "\n",
      "Vuelos a Miami //media.staticontent.com/media/pictures/d2829cc9-46ae-42f8-ae68-d3ee165c7f4e/300x200 Vuelo 728.350 None\n",
      "\n",
      "\n",
      "Paquetes a Santa Marta //media.staticontent.com/media/pictures/60a67806-6ebe-467e-856e-0ca241030393/300x200 Paquete 474.585  $937.185 \n",
      "\n",
      "\n",
      "Hotel Poblado Plaza //media.staticontent.com/media/pictures/410ac798-9be4-4a26-92b3-59c97baa0d2d/300x200 Alojamiento 446.400  $558.000 \n",
      "\n",
      "\n",
      "Aeropuerto Internacional Miami //media.staticontent.com/media/pictures/d6f408b2-6824-4d55-9b3b-4d0a2fa459fa/300x200 Auto 149.225 None\n",
      "\n",
      "\n",
      "Bogotá //media.staticontent.com/media/pictures/4488bcd1-7ec4-4cbf-805a-84c385871876/300x200 Auto 96.487 None\n",
      "\n",
      "\n",
      "Vuelos a Cartagena de Indias //media.staticontent.com/media/pictures/03857547-04a6-47a7-bcc6-8763a0b1d057/300x200 Vuelo 95.493 None\n",
      "\n",
      "\n",
      "Hotel Capilla Del Mar //media.staticontent.com/media/pictures/e10e9950-267c-40bc-b3d9-ea6582b700cf/300x200 Alojamiento 392.412  $509.626 \n",
      "\n",
      "\n",
      "None None None None None\n",
      "\n",
      "\n",
      "None None None None None\n",
      "\n",
      "\n",
      "None None None None None\n",
      "\n",
      "\n",
      "None None None None None\n",
      "\n",
      "\n",
      "None None None None None\n",
      "\n",
      "\n",
      "None None None None None\n",
      "\n",
      "\n",
      "None None None None None\n",
      "\n",
      "\n",
      "None None None None None\n",
      "\n",
      "\n",
      "None None None None None\n",
      "\n",
      "\n",
      "None None None None None\n",
      "\n",
      "\n",
      "None None None None None\n",
      "\n",
      "\n",
      "None None None None None\n",
      "\n",
      "\n",
      "None None None None None\n",
      "\n",
      "\n",
      "None None None None None\n",
      "\n",
      "\n",
      "None None None None None\n",
      "\n",
      "\n",
      "None None None None None\n",
      "\n",
      "\n",
      "None None None None None\n",
      "\n",
      "\n",
      "None None None None None\n",
      "\n",
      "\n",
      "None None None None None\n",
      "\n",
      "\n",
      "None None None None None\n",
      "\n",
      "\n",
      "None None None None None\n",
      "\n",
      "\n",
      "None None None None None\n",
      "\n",
      "\n"
     ]
    }
   ],
   "source": [
    "def chequear_nulo(etiqueta):\n",
    "    if etiqueta is not None:\n",
    "        return etiqueta.text\n",
    "\n",
    "def chequear_imagen(etiqueta):\n",
    "    if etiqueta is not None:\n",
    "        return etiqueta['src']\n",
    "\n",
    "for etiqueta in etiqueta_promociones:\n",
    "    titulo = etiqueta.select_one('.offer-card-title.small-title ')\n",
    "    imagen = etiqueta.select_one('.offer-card-image .offer-card-image-main')\n",
    "    categoria = etiqueta.select_one('.offer-card-product')\n",
    "    precio_oferta = etiqueta.select_one('.offer-card-pricebox-price-amount ')\n",
    "    precio_normal = etiqueta.select_one('.offer-card-pricebox-price .offer-card-pricebox-price-old')\n",
    "    print(chequear_nulo(titulo), chequear_imagen(imagen), chequear_nulo(categoria), chequear_nulo(precio_oferta), chequear_nulo(precio_normal))\n",
    "    print('\\n')\n",
    "\n",
    "\n"
   ]
  },
  {
   "cell_type": "code",
   "execution_count": 28,
   "metadata": {},
   "outputs": [
    {
     "name": "stdout",
     "output_type": "stream",
     "text": [
      "{'categoria': ['Paquete', 'Paquete', 'Paquete', 'Paquete', 'Paquete', 'Paquete', 'Paquete', 'Paquete', 'Vuelo', 'Vuelo', 'Vuelo', 'Vuelo', 'Vuelo', 'Vuelo', 'Vuelo', 'Vuelo', 'Vuelo', 'Vuelo', 'Vuelo', 'Vuelo', 'Alojamiento', 'Actividad', 'Alojamiento', 'Vuelo', 'Vuelo', 'Paquete', 'Alojamiento', 'Auto', 'Auto', 'Vuelo', 'Alojamiento', None, None, None, None, None, None, None, None, None, None, None, None, None, None, None, None, None, None, None, None, None, None], 'titulo': ['Paquetes a Cartagena de Indias', 'Paquetes a Cali', 'Paquetes a San Andrés', 'Paquetes a Cancún', 'Paquetes a Ciudad de México', 'Paquetes a Nueva York', 'Paquetes a Panamá', 'Paquetes a Buenos Aires', 'Vuelo a Cancún', 'Vuelo a Miami', 'Vuelo a Guarullos', 'Vuelo a Madrid', 'Vuelo a Cartagena de Indias', 'Vuelo a Santa Marta', 'Vuelo a San Andrés', 'Vuelo a Medellín', 'Vuelos a Medellín', 'Vuelos a Cartagena de Indias', 'Vuelos a Santa Marta', 'Vuelos a Cali', 'UGO Hotel', 'Entradas a Parques Temáticos Disney', 'Hotel Calypso Beach', 'Vuelos a Ciudad de México', 'Vuelos a Miami', 'Paquetes a Santa Marta', 'Hotel Poblado Plaza', 'Aeropuerto Internacional Miami', 'Bogotá', 'Vuelos a Cartagena de Indias', 'Hotel Capilla Del Mar', None, None, None, None, None, None, None, None, None, None, None, None, None, None, None, None, None, None, None, None, None, None], 'precio_oferta': ['738.644', '337.614', '976.737', '2.371.837', '1.197.824', '1.925.338', '1.124.728', '4.692.628', '865.329', '728.350', '1.071.400', '1.859.614', '188.173', '184.836', '193.913', '154.022', '76.737', '109.737', '109.737', '76.737', '336.039', '532.828', '620.374', '2.827.031', '728.350', '474.585', '446.400', '149.225', '96.487', '95.493', '392.412', None, None, None, None, None, None, None, None, None, None, None, None, None, None, None, None, None, None, None, None, None, None], 'precio_normal': [' $1.461.227 ', ' $456.699 ', ' $1.620.956 ', ' $2.696.131 ', ' $1.788.435 ', ' $2.065.457 ', ' $1.381.099 ', ' $4.931.641 ', None, None, None, None, None, None, None, None, None, None, None, None, None, None, None, None, None, ' $937.185 ', ' $558.000 ', None, None, None, ' $509.626 ', None, None, None, None, None, None, None, None, None, None, None, None, None, None, None, None, None, None, None, None, None, None]}\n",
      "\n",
      "\n"
     ]
    }
   ],
   "source": [
    "total_promociones = {'categoria':[],'titulo':[],'precio_oferta':[],'precio_normal':[]}\n",
    "for promociones in etiqueta_promociones:\n",
    "    total_promociones['categoria'].append(chequear_nulo(promociones.select_one('.offer-card-product')))\n",
    "    total_promociones['titulo'].append(chequear_nulo(promociones.select_one('.offer-card-title.small-title')))\n",
    "    total_promociones['precio_oferta'].append(chequear_nulo(promociones.select_one('.offer-card-pricebox-price-amount')))\n",
    "    total_promociones['precio_normal'].append(chequear_nulo(promociones.select_one('.offer-card-pricebox-price .offer-card-pricebox-price-old')))\n",
    "\n",
    "print(total_promociones)\n",
    "print('\\n')\t"
   ]
  }
 ],
 "metadata": {
  "interpreter": {
   "hash": "6c3ed7ee24fab0329143935c7a8d1152471eb3ca2f0e5c54769f25c716a07dbd"
  },
  "kernelspec": {
   "display_name": "Python 3.8.12 64-bit ('scraping': conda)",
   "language": "python",
   "name": "python3"
  },
  "language_info": {
   "codemirror_mode": {
    "name": "ipython",
    "version": 3
   },
   "file_extension": ".py",
   "mimetype": "text/x-python",
   "name": "python",
   "nbconvert_exporter": "python",
   "pygments_lexer": "ipython3",
   "version": "3.8.12"
  },
  "orig_nbformat": 4
 },
 "nbformat": 4,
 "nbformat_minor": 2
}
